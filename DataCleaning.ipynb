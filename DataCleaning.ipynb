{
 "cells": [
  {
   "cell_type": "markdown",
   "id": "39b4a79f",
   "metadata": {},
   "source": [
    "Import libraries"
   ]
  },
  {
   "cell_type": "code",
   "execution_count": 1,
   "id": "dc75a5f2",
   "metadata": {},
   "outputs": [],
   "source": [
    "import pandas as pd"
   ]
  },
  {
   "cell_type": "markdown",
   "id": "4efad878",
   "metadata": {},
   "source": [
    "Data Loading & Cleaning"
   ]
  },
  {
   "cell_type": "markdown",
   "id": "24581baf",
   "metadata": {},
   "source": [
    "data1 : coverage-data"
   ]
  },
  {
   "cell_type": "code",
   "execution_count": 2,
   "id": "79bf231f",
   "metadata": {},
   "outputs": [],
   "source": [
    "coverage_data = pd.read_excel(\"coverage-data.xlsx\")"
   ]
  },
  {
   "cell_type": "code",
   "execution_count": 3,
   "id": "7f685d85",
   "metadata": {},
   "outputs": [
    {
     "data": {
      "text/html": [
       "<div>\n",
       "<style scoped>\n",
       "    .dataframe tbody tr th:only-of-type {\n",
       "        vertical-align: middle;\n",
       "    }\n",
       "\n",
       "    .dataframe tbody tr th {\n",
       "        vertical-align: top;\n",
       "    }\n",
       "\n",
       "    .dataframe thead th {\n",
       "        text-align: right;\n",
       "    }\n",
       "</style>\n",
       "<table border=\"1\" class=\"dataframe\">\n",
       "  <thead>\n",
       "    <tr style=\"text-align: right;\">\n",
       "      <th></th>\n",
       "      <th>GROUP</th>\n",
       "      <th>CODE</th>\n",
       "      <th>NAME</th>\n",
       "      <th>YEAR</th>\n",
       "      <th>ANTIGEN</th>\n",
       "      <th>ANTIGEN_DESCRIPTION</th>\n",
       "      <th>COVERAGE_CATEGORY</th>\n",
       "      <th>COVERAGE_CATEGORY_DESCRIPTION</th>\n",
       "      <th>TARGET_NUMBER</th>\n",
       "      <th>DOSES</th>\n",
       "      <th>COVERAGE</th>\n",
       "    </tr>\n",
       "  </thead>\n",
       "  <tbody>\n",
       "    <tr>\n",
       "      <th>0</th>\n",
       "      <td>COUNTRIES</td>\n",
       "      <td>ABW</td>\n",
       "      <td>Aruba</td>\n",
       "      <td>2023.0</td>\n",
       "      <td>BCG</td>\n",
       "      <td>BCG</td>\n",
       "      <td>ADMIN</td>\n",
       "      <td>Administrative coverage</td>\n",
       "      <td>NaN</td>\n",
       "      <td>NaN</td>\n",
       "      <td>NaN</td>\n",
       "    </tr>\n",
       "    <tr>\n",
       "      <th>1</th>\n",
       "      <td>COUNTRIES</td>\n",
       "      <td>ABW</td>\n",
       "      <td>Aruba</td>\n",
       "      <td>2023.0</td>\n",
       "      <td>BCG</td>\n",
       "      <td>BCG</td>\n",
       "      <td>OFFICIAL</td>\n",
       "      <td>Official coverage</td>\n",
       "      <td>NaN</td>\n",
       "      <td>NaN</td>\n",
       "      <td>NaN</td>\n",
       "    </tr>\n",
       "    <tr>\n",
       "      <th>2</th>\n",
       "      <td>COUNTRIES</td>\n",
       "      <td>ABW</td>\n",
       "      <td>Aruba</td>\n",
       "      <td>2023.0</td>\n",
       "      <td>DIPHCV4</td>\n",
       "      <td>Diphtheria-containing vaccine, 4th dose (1st b...</td>\n",
       "      <td>ADMIN</td>\n",
       "      <td>Administrative coverage</td>\n",
       "      <td>1044.0</td>\n",
       "      <td>945.0</td>\n",
       "      <td>90.52</td>\n",
       "    </tr>\n",
       "    <tr>\n",
       "      <th>3</th>\n",
       "      <td>COUNTRIES</td>\n",
       "      <td>ABW</td>\n",
       "      <td>Aruba</td>\n",
       "      <td>2023.0</td>\n",
       "      <td>DIPHCV4</td>\n",
       "      <td>Diphtheria-containing vaccine, 4th dose (1st b...</td>\n",
       "      <td>OFFICIAL</td>\n",
       "      <td>Official coverage</td>\n",
       "      <td>NaN</td>\n",
       "      <td>NaN</td>\n",
       "      <td>90.52</td>\n",
       "    </tr>\n",
       "    <tr>\n",
       "      <th>4</th>\n",
       "      <td>COUNTRIES</td>\n",
       "      <td>ABW</td>\n",
       "      <td>Aruba</td>\n",
       "      <td>2023.0</td>\n",
       "      <td>DIPHCV5</td>\n",
       "      <td>Diphtheria-containing vaccine, 5th dose (2nd b...</td>\n",
       "      <td>ADMIN</td>\n",
       "      <td>Administrative coverage</td>\n",
       "      <td>1219.0</td>\n",
       "      <td>1008.0</td>\n",
       "      <td>82.69</td>\n",
       "    </tr>\n",
       "  </tbody>\n",
       "</table>\n",
       "</div>"
      ],
      "text/plain": [
       "       GROUP CODE   NAME    YEAR  ANTIGEN  \\\n",
       "0  COUNTRIES  ABW  Aruba  2023.0      BCG   \n",
       "1  COUNTRIES  ABW  Aruba  2023.0      BCG   \n",
       "2  COUNTRIES  ABW  Aruba  2023.0  DIPHCV4   \n",
       "3  COUNTRIES  ABW  Aruba  2023.0  DIPHCV4   \n",
       "4  COUNTRIES  ABW  Aruba  2023.0  DIPHCV5   \n",
       "\n",
       "                                 ANTIGEN_DESCRIPTION COVERAGE_CATEGORY  \\\n",
       "0                                                BCG             ADMIN   \n",
       "1                                                BCG          OFFICIAL   \n",
       "2  Diphtheria-containing vaccine, 4th dose (1st b...             ADMIN   \n",
       "3  Diphtheria-containing vaccine, 4th dose (1st b...          OFFICIAL   \n",
       "4  Diphtheria-containing vaccine, 5th dose (2nd b...             ADMIN   \n",
       "\n",
       "  COVERAGE_CATEGORY_DESCRIPTION  TARGET_NUMBER   DOSES  COVERAGE  \n",
       "0       Administrative coverage            NaN     NaN       NaN  \n",
       "1             Official coverage            NaN     NaN       NaN  \n",
       "2       Administrative coverage         1044.0   945.0     90.52  \n",
       "3             Official coverage            NaN     NaN     90.52  \n",
       "4       Administrative coverage         1219.0  1008.0     82.69  "
      ]
     },
     "execution_count": 3,
     "metadata": {},
     "output_type": "execute_result"
    }
   ],
   "source": [
    "coverage_data.head()"
   ]
  },
  {
   "cell_type": "code",
   "execution_count": 4,
   "id": "e40ca4cc",
   "metadata": {},
   "outputs": [
    {
     "data": {
      "text/plain": [
       "(399859, 11)"
      ]
     },
     "execution_count": 4,
     "metadata": {},
     "output_type": "execute_result"
    }
   ],
   "source": [
    "coverage_data.shape"
   ]
  },
  {
   "cell_type": "code",
   "execution_count": 5,
   "id": "0bf117c7",
   "metadata": {},
   "outputs": [
    {
     "name": "stdout",
     "output_type": "stream",
     "text": [
      "<class 'pandas.core.frame.DataFrame'>\n",
      "RangeIndex: 399859 entries, 0 to 399858\n",
      "Data columns (total 11 columns):\n",
      " #   Column                         Non-Null Count   Dtype  \n",
      "---  ------                         --------------   -----  \n",
      " 0   GROUP                          399859 non-null  object \n",
      " 1   CODE                           399858 non-null  object \n",
      " 2   NAME                           398584 non-null  object \n",
      " 3   YEAR                           399858 non-null  float64\n",
      " 4   ANTIGEN                        399858 non-null  object \n",
      " 5   ANTIGEN_DESCRIPTION            399858 non-null  object \n",
      " 6   COVERAGE_CATEGORY              399858 non-null  object \n",
      " 7   COVERAGE_CATEGORY_DESCRIPTION  399858 non-null  object \n",
      " 8   TARGET_NUMBER                  79030 non-null   float64\n",
      " 9   DOSES                          79327 non-null   float64\n",
      " 10  COVERAGE                       230477 non-null  float64\n",
      "dtypes: float64(4), object(7)\n",
      "memory usage: 33.6+ MB\n"
     ]
    }
   ],
   "source": [
    "coverage_data.info()"
   ]
  },
  {
   "cell_type": "code",
   "execution_count": 6,
   "id": "67cc0b13",
   "metadata": {},
   "outputs": [
    {
     "data": {
      "text/plain": [
       "GROUP                                 0\n",
       "CODE                                  1\n",
       "NAME                               1275\n",
       "YEAR                                  1\n",
       "ANTIGEN                               1\n",
       "ANTIGEN_DESCRIPTION                   1\n",
       "COVERAGE_CATEGORY                     1\n",
       "COVERAGE_CATEGORY_DESCRIPTION         1\n",
       "TARGET_NUMBER                    320829\n",
       "DOSES                            320532\n",
       "COVERAGE                         169382\n",
       "dtype: int64"
      ]
     },
     "execution_count": 6,
     "metadata": {},
     "output_type": "execute_result"
    }
   ],
   "source": [
    "coverage_data.isnull().sum()"
   ]
  },
  {
   "cell_type": "markdown",
   "id": "ff592929",
   "metadata": {},
   "source": [
    "Handle Missing Data"
   ]
  },
  {
   "cell_type": "code",
   "execution_count": 7,
   "id": "5e5e23c4",
   "metadata": {},
   "outputs": [
    {
     "data": {
      "text/html": [
       "<div>\n",
       "<style scoped>\n",
       "    .dataframe tbody tr th:only-of-type {\n",
       "        vertical-align: middle;\n",
       "    }\n",
       "\n",
       "    .dataframe tbody tr th {\n",
       "        vertical-align: top;\n",
       "    }\n",
       "\n",
       "    .dataframe thead th {\n",
       "        text-align: right;\n",
       "    }\n",
       "</style>\n",
       "<table border=\"1\" class=\"dataframe\">\n",
       "  <thead>\n",
       "    <tr style=\"text-align: right;\">\n",
       "      <th></th>\n",
       "      <th>GROUP</th>\n",
       "      <th>CODE</th>\n",
       "      <th>NAME</th>\n",
       "      <th>YEAR</th>\n",
       "      <th>ANTIGEN</th>\n",
       "      <th>ANTIGEN_DESCRIPTION</th>\n",
       "      <th>COVERAGE_CATEGORY</th>\n",
       "      <th>COVERAGE_CATEGORY_DESCRIPTION</th>\n",
       "      <th>TARGET_NUMBER</th>\n",
       "      <th>DOSES</th>\n",
       "      <th>COVERAGE</th>\n",
       "    </tr>\n",
       "  </thead>\n",
       "  <tbody>\n",
       "    <tr>\n",
       "      <th>399858</th>\n",
       "      <td>Created: 2025-02-01 16:00 UTC</td>\n",
       "      <td>NaN</td>\n",
       "      <td>NaN</td>\n",
       "      <td>NaN</td>\n",
       "      <td>NaN</td>\n",
       "      <td>NaN</td>\n",
       "      <td>NaN</td>\n",
       "      <td>NaN</td>\n",
       "      <td>NaN</td>\n",
       "      <td>NaN</td>\n",
       "      <td>NaN</td>\n",
       "    </tr>\n",
       "  </tbody>\n",
       "</table>\n",
       "</div>"
      ],
      "text/plain": [
       "                                GROUP CODE NAME  YEAR ANTIGEN  \\\n",
       "399858  Created: 2025-02-01 16:00 UTC  NaN  NaN   NaN     NaN   \n",
       "\n",
       "       ANTIGEN_DESCRIPTION COVERAGE_CATEGORY COVERAGE_CATEGORY_DESCRIPTION  \\\n",
       "399858                 NaN               NaN                           NaN   \n",
       "\n",
       "        TARGET_NUMBER  DOSES  COVERAGE  \n",
       "399858            NaN    NaN       NaN  "
      ]
     },
     "execution_count": 7,
     "metadata": {},
     "output_type": "execute_result"
    }
   ],
   "source": [
    "# Count NaNs per row\n",
    "nan_counts = coverage_data.isna().sum(axis=1)\n",
    "\n",
    "# Get the maximum number of NaNs in any row\n",
    "max_nans = nan_counts.max()\n",
    "\n",
    "# Get row(s) where number of NaNs equals the maximum\n",
    "rows_with_most_nans = coverage_data[nan_counts == max_nans]\n",
    "rows_with_most_nans"
   ]
  },
  {
   "cell_type": "code",
   "execution_count": 8,
   "id": "d6362a77",
   "metadata": {},
   "outputs": [],
   "source": [
    "# dropping the row where all the values are NaN\n",
    "coverage_data = coverage_data.drop(index=399858)"
   ]
  },
  {
   "cell_type": "code",
   "execution_count": 9,
   "id": "27d92071",
   "metadata": {},
   "outputs": [],
   "source": [
    "coverage_data.update(coverage_data['NAME'].fillna(\"WB_NA\"))"
   ]
  },
  {
   "cell_type": "code",
   "execution_count": 10,
   "id": "33960aa3",
   "metadata": {},
   "outputs": [],
   "source": [
    "coverage_data['TARGET_NUMBER'] = coverage_data.groupby(['ANTIGEN'])['TARGET_NUMBER'].transform(lambda x: x.fillna(x.median()))"
   ]
  },
  {
   "cell_type": "code",
   "execution_count": 11,
   "id": "a34a2eed",
   "metadata": {},
   "outputs": [],
   "source": [
    "coverage_data['DOSES'] = coverage_data.groupby(['ANTIGEN'])['DOSES'].transform(lambda x: x.fillna(x.median()))"
   ]
  },
  {
   "cell_type": "code",
   "execution_count": 12,
   "id": "bec5439f",
   "metadata": {},
   "outputs": [],
   "source": [
    "# Fill coverage where both DOSES and TARGET_NUMBER are non-null and TARGET_NUMBER is not 0\n",
    "mask_valid = (\n",
    "    coverage_data[\"COVERAGE\"].isna() &\n",
    "    coverage_data[\"DOSES\"].notna() &\n",
    "    coverage_data[\"TARGET_NUMBER\"].notna() &\n",
    "    (coverage_data[\"TARGET_NUMBER\"] != 0)\n",
    ")\n",
    "\n",
    "coverage_data.loc[mask_valid, \"COVERAGE\"] = (\n",
    "    (coverage_data.loc[mask_valid, \"DOSES\"] / coverage_data.loc[mask_valid, \"TARGET_NUMBER\"]) * 100\n",
    ")\n",
    "\n",
    "# Handle cases where DOSES or TARGET_NUMBER is 0 → set coverage to 0\n",
    "mask_zero = (\n",
    "    coverage_data[\"COVERAGE\"].isna() &\n",
    "    ((coverage_data[\"DOSES\"] == 0) | (coverage_data[\"TARGET_NUMBER\"] == 0))\n",
    ")\n",
    "\n",
    "coverage_data.loc[mask_zero, \"COVERAGE\"] = 0\n",
    "\n",
    "# Round coverage to 2 decimal places\n",
    "coverage_data[\"COVERAGE\"] = coverage_data[\"COVERAGE\"].round(2)"
   ]
  },
  {
   "cell_type": "code",
   "execution_count": 13,
   "id": "3e212e1c",
   "metadata": {},
   "outputs": [
    {
     "data": {
      "text/plain": [
       "GROUP                            0\n",
       "CODE                             0\n",
       "NAME                             0\n",
       "YEAR                             0\n",
       "ANTIGEN                          0\n",
       "ANTIGEN_DESCRIPTION              0\n",
       "COVERAGE_CATEGORY                0\n",
       "COVERAGE_CATEGORY_DESCRIPTION    0\n",
       "TARGET_NUMBER                    0\n",
       "DOSES                            0\n",
       "COVERAGE                         0\n",
       "dtype: int64"
      ]
     },
     "execution_count": 13,
     "metadata": {},
     "output_type": "execute_result"
    }
   ],
   "source": [
    "coverage_data.isnull().sum()"
   ]
  },
  {
   "cell_type": "markdown",
   "id": "f9ed3cbe",
   "metadata": {},
   "source": [
    "Normalize Units & Date Consistency"
   ]
  },
  {
   "cell_type": "code",
   "execution_count": 14,
   "id": "2b8bb10f",
   "metadata": {},
   "outputs": [],
   "source": [
    "# Normalize coverage where it's too high (likely raw count)\n",
    "mask_high = coverage_data[\"COVERAGE\"] > 100\n",
    "\n",
    "# Only normalize if doses and target number are valid\n",
    "valid = coverage_data[\"DOSES\"].notna() & coverage_data[\"TARGET_NUMBER\"].notna() & (coverage_data[\"TARGET_NUMBER\"] != 0)\n",
    "\n",
    "# Combined mask\n",
    "mask = mask_high & valid\n",
    "\n",
    "# Normalize\n",
    "coverage_data.loc[mask, \"COVERAGE\"] = (coverage_data.loc[mask, \"DOSES\"] / coverage_data.loc[mask, \"TARGET_NUMBER\"]) * 100\n",
    "\n",
    "# Optional: round to 2 decimal places\n",
    "coverage_data[\"COVERAGE\"] = coverage_data[\"COVERAGE\"].round(2)\n",
    "\n",
    "#Some rows may still exceed 100 due to incorrect data. cap values at 100\n",
    "coverage_data[\"COVERAGE\"] = coverage_data[\"COVERAGE\"].clip(upper=100)\n"
   ]
  },
  {
   "cell_type": "code",
   "execution_count": 15,
   "id": "a62386d7",
   "metadata": {},
   "outputs": [],
   "source": [
    "# Converting  Year, TARGET_NUMBER, DOSES columns to integer\n",
    "coverage_data['YEAR'] = coverage_data['YEAR'].astype(int)\n",
    "coverage_data['TARGET_NUMBER'] = coverage_data['TARGET_NUMBER'].astype(int)\n",
    "coverage_data['DOSES'] = coverage_data['DOSES'].astype(int)"
   ]
  },
  {
   "cell_type": "code",
   "execution_count": 16,
   "id": "6f12e0df",
   "metadata": {},
   "outputs": [],
   "source": [
    "# Date consistency\n",
    "#coverage_data[\"YEAR\"] = pd.to_datetime(coverage_data[\"YEAR\"], format=\"%Y\", errors=\"coerce\")\n"
   ]
  },
  {
   "cell_type": "code",
   "execution_count": 17,
   "id": "fd6afe8a",
   "metadata": {},
   "outputs": [
    {
     "data": {
      "text/html": [
       "<div>\n",
       "<style scoped>\n",
       "    .dataframe tbody tr th:only-of-type {\n",
       "        vertical-align: middle;\n",
       "    }\n",
       "\n",
       "    .dataframe tbody tr th {\n",
       "        vertical-align: top;\n",
       "    }\n",
       "\n",
       "    .dataframe thead th {\n",
       "        text-align: right;\n",
       "    }\n",
       "</style>\n",
       "<table border=\"1\" class=\"dataframe\">\n",
       "  <thead>\n",
       "    <tr style=\"text-align: right;\">\n",
       "      <th></th>\n",
       "      <th>GROUP</th>\n",
       "      <th>CODE</th>\n",
       "      <th>NAME</th>\n",
       "      <th>YEAR</th>\n",
       "      <th>ANTIGEN</th>\n",
       "      <th>ANTIGEN_DESCRIPTION</th>\n",
       "      <th>COVERAGE_CATEGORY</th>\n",
       "      <th>COVERAGE_CATEGORY_DESCRIPTION</th>\n",
       "      <th>TARGET_NUMBER</th>\n",
       "      <th>DOSES</th>\n",
       "      <th>COVERAGE</th>\n",
       "    </tr>\n",
       "  </thead>\n",
       "  <tbody>\n",
       "    <tr>\n",
       "      <th>0</th>\n",
       "      <td>COUNTRIES</td>\n",
       "      <td>ABW</td>\n",
       "      <td>Aruba</td>\n",
       "      <td>2023</td>\n",
       "      <td>BCG</td>\n",
       "      <td>BCG</td>\n",
       "      <td>ADMIN</td>\n",
       "      <td>Administrative coverage</td>\n",
       "      <td>429586</td>\n",
       "      <td>376769</td>\n",
       "      <td>87.71</td>\n",
       "    </tr>\n",
       "    <tr>\n",
       "      <th>1</th>\n",
       "      <td>COUNTRIES</td>\n",
       "      <td>ABW</td>\n",
       "      <td>Aruba</td>\n",
       "      <td>2023</td>\n",
       "      <td>BCG</td>\n",
       "      <td>BCG</td>\n",
       "      <td>OFFICIAL</td>\n",
       "      <td>Official coverage</td>\n",
       "      <td>429586</td>\n",
       "      <td>376769</td>\n",
       "      <td>87.71</td>\n",
       "    </tr>\n",
       "    <tr>\n",
       "      <th>2</th>\n",
       "      <td>COUNTRIES</td>\n",
       "      <td>ABW</td>\n",
       "      <td>Aruba</td>\n",
       "      <td>2023</td>\n",
       "      <td>DIPHCV4</td>\n",
       "      <td>Diphtheria-containing vaccine, 4th dose (1st b...</td>\n",
       "      <td>ADMIN</td>\n",
       "      <td>Administrative coverage</td>\n",
       "      <td>1044</td>\n",
       "      <td>945</td>\n",
       "      <td>90.52</td>\n",
       "    </tr>\n",
       "    <tr>\n",
       "      <th>3</th>\n",
       "      <td>COUNTRIES</td>\n",
       "      <td>ABW</td>\n",
       "      <td>Aruba</td>\n",
       "      <td>2023</td>\n",
       "      <td>DIPHCV4</td>\n",
       "      <td>Diphtheria-containing vaccine, 4th dose (1st b...</td>\n",
       "      <td>OFFICIAL</td>\n",
       "      <td>Official coverage</td>\n",
       "      <td>65501</td>\n",
       "      <td>56755</td>\n",
       "      <td>90.52</td>\n",
       "    </tr>\n",
       "    <tr>\n",
       "      <th>4</th>\n",
       "      <td>COUNTRIES</td>\n",
       "      <td>ABW</td>\n",
       "      <td>Aruba</td>\n",
       "      <td>2023</td>\n",
       "      <td>DIPHCV5</td>\n",
       "      <td>Diphtheria-containing vaccine, 5th dose (2nd b...</td>\n",
       "      <td>ADMIN</td>\n",
       "      <td>Administrative coverage</td>\n",
       "      <td>1219</td>\n",
       "      <td>1008</td>\n",
       "      <td>82.69</td>\n",
       "    </tr>\n",
       "    <tr>\n",
       "      <th>...</th>\n",
       "      <td>...</td>\n",
       "      <td>...</td>\n",
       "      <td>...</td>\n",
       "      <td>...</td>\n",
       "      <td>...</td>\n",
       "      <td>...</td>\n",
       "      <td>...</td>\n",
       "      <td>...</td>\n",
       "      <td>...</td>\n",
       "      <td>...</td>\n",
       "      <td>...</td>\n",
       "    </tr>\n",
       "    <tr>\n",
       "      <th>399853</th>\n",
       "      <td>WHO_REGIONS</td>\n",
       "      <td>WPR</td>\n",
       "      <td>Western Pacific Region</td>\n",
       "      <td>1980</td>\n",
       "      <td>DTPCV3</td>\n",
       "      <td>DTP-containing vaccine, 3rd dose</td>\n",
       "      <td>WUENIC</td>\n",
       "      <td>WHO/UNICEF Estimates of National Immunization ...</td>\n",
       "      <td>27939588</td>\n",
       "      <td>2273390</td>\n",
       "      <td>8.00</td>\n",
       "    </tr>\n",
       "    <tr>\n",
       "      <th>399854</th>\n",
       "      <td>WHO_REGIONS</td>\n",
       "      <td>WPR</td>\n",
       "      <td>Western Pacific Region</td>\n",
       "      <td>1980</td>\n",
       "      <td>MCV1</td>\n",
       "      <td>Measles-containing vaccine, 1st dose</td>\n",
       "      <td>WUENIC</td>\n",
       "      <td>WHO/UNICEF Estimates of National Immunization ...</td>\n",
       "      <td>27939588</td>\n",
       "      <td>1209026</td>\n",
       "      <td>4.00</td>\n",
       "    </tr>\n",
       "    <tr>\n",
       "      <th>399855</th>\n",
       "      <td>WHO_REGIONS</td>\n",
       "      <td>WPR</td>\n",
       "      <td>Western Pacific Region</td>\n",
       "      <td>1980</td>\n",
       "      <td>PAB</td>\n",
       "      <td>Protection at birth (PAB) against neonatal tet...</td>\n",
       "      <td>PAB</td>\n",
       "      <td>PAB Estimates</td>\n",
       "      <td>4494513</td>\n",
       "      <td>276306</td>\n",
       "      <td>6.00</td>\n",
       "    </tr>\n",
       "    <tr>\n",
       "      <th>399856</th>\n",
       "      <td>WHO_REGIONS</td>\n",
       "      <td>WPR</td>\n",
       "      <td>Western Pacific Region</td>\n",
       "      <td>1980</td>\n",
       "      <td>POL3</td>\n",
       "      <td>Polio, 3rd dose</td>\n",
       "      <td>WUENIC</td>\n",
       "      <td>WHO/UNICEF Estimates of National Immunization ...</td>\n",
       "      <td>27939588</td>\n",
       "      <td>1296611</td>\n",
       "      <td>5.00</td>\n",
       "    </tr>\n",
       "    <tr>\n",
       "      <th>399857</th>\n",
       "      <td>WHO_REGIONS</td>\n",
       "      <td>WPR</td>\n",
       "      <td>Western Pacific Region</td>\n",
       "      <td>1980</td>\n",
       "      <td>RCV1</td>\n",
       "      <td>Rubella-containing vaccine, 1st dose</td>\n",
       "      <td>WUENIC</td>\n",
       "      <td>WHO/UNICEF Estimates of National Immunization ...</td>\n",
       "      <td>27939588</td>\n",
       "      <td>40245</td>\n",
       "      <td>0.00</td>\n",
       "    </tr>\n",
       "  </tbody>\n",
       "</table>\n",
       "<p>399858 rows × 11 columns</p>\n",
       "</div>"
      ],
      "text/plain": [
       "              GROUP CODE                    NAME  YEAR  ANTIGEN  \\\n",
       "0         COUNTRIES  ABW                   Aruba  2023      BCG   \n",
       "1         COUNTRIES  ABW                   Aruba  2023      BCG   \n",
       "2         COUNTRIES  ABW                   Aruba  2023  DIPHCV4   \n",
       "3         COUNTRIES  ABW                   Aruba  2023  DIPHCV4   \n",
       "4         COUNTRIES  ABW                   Aruba  2023  DIPHCV5   \n",
       "...             ...  ...                     ...   ...      ...   \n",
       "399853  WHO_REGIONS  WPR  Western Pacific Region  1980   DTPCV3   \n",
       "399854  WHO_REGIONS  WPR  Western Pacific Region  1980     MCV1   \n",
       "399855  WHO_REGIONS  WPR  Western Pacific Region  1980      PAB   \n",
       "399856  WHO_REGIONS  WPR  Western Pacific Region  1980     POL3   \n",
       "399857  WHO_REGIONS  WPR  Western Pacific Region  1980     RCV1   \n",
       "\n",
       "                                      ANTIGEN_DESCRIPTION COVERAGE_CATEGORY  \\\n",
       "0                                                     BCG             ADMIN   \n",
       "1                                                     BCG          OFFICIAL   \n",
       "2       Diphtheria-containing vaccine, 4th dose (1st b...             ADMIN   \n",
       "3       Diphtheria-containing vaccine, 4th dose (1st b...          OFFICIAL   \n",
       "4       Diphtheria-containing vaccine, 5th dose (2nd b...             ADMIN   \n",
       "...                                                   ...               ...   \n",
       "399853                   DTP-containing vaccine, 3rd dose            WUENIC   \n",
       "399854               Measles-containing vaccine, 1st dose            WUENIC   \n",
       "399855  Protection at birth (PAB) against neonatal tet...               PAB   \n",
       "399856                                    Polio, 3rd dose            WUENIC   \n",
       "399857               Rubella-containing vaccine, 1st dose            WUENIC   \n",
       "\n",
       "                            COVERAGE_CATEGORY_DESCRIPTION  TARGET_NUMBER  \\\n",
       "0                                 Administrative coverage         429586   \n",
       "1                                       Official coverage         429586   \n",
       "2                                 Administrative coverage           1044   \n",
       "3                                       Official coverage          65501   \n",
       "4                                 Administrative coverage           1219   \n",
       "...                                                   ...            ...   \n",
       "399853  WHO/UNICEF Estimates of National Immunization ...       27939588   \n",
       "399854  WHO/UNICEF Estimates of National Immunization ...       27939588   \n",
       "399855                                      PAB Estimates        4494513   \n",
       "399856  WHO/UNICEF Estimates of National Immunization ...       27939588   \n",
       "399857  WHO/UNICEF Estimates of National Immunization ...       27939588   \n",
       "\n",
       "          DOSES  COVERAGE  \n",
       "0        376769     87.71  \n",
       "1        376769     87.71  \n",
       "2           945     90.52  \n",
       "3         56755     90.52  \n",
       "4          1008     82.69  \n",
       "...         ...       ...  \n",
       "399853  2273390      8.00  \n",
       "399854  1209026      4.00  \n",
       "399855   276306      6.00  \n",
       "399856  1296611      5.00  \n",
       "399857    40245      0.00  \n",
       "\n",
       "[399858 rows x 11 columns]"
      ]
     },
     "execution_count": 17,
     "metadata": {},
     "output_type": "execute_result"
    }
   ],
   "source": [
    "coverage_data"
   ]
  },
  {
   "cell_type": "code",
   "execution_count": 18,
   "id": "4f69f87a",
   "metadata": {},
   "outputs": [
    {
     "data": {
      "text/html": [
       "<div>\n",
       "<style scoped>\n",
       "    .dataframe tbody tr th:only-of-type {\n",
       "        vertical-align: middle;\n",
       "    }\n",
       "\n",
       "    .dataframe tbody tr th {\n",
       "        vertical-align: top;\n",
       "    }\n",
       "\n",
       "    .dataframe thead th {\n",
       "        text-align: right;\n",
       "    }\n",
       "</style>\n",
       "<table border=\"1\" class=\"dataframe\">\n",
       "  <thead>\n",
       "    <tr style=\"text-align: right;\">\n",
       "      <th></th>\n",
       "      <th>YEAR</th>\n",
       "      <th>TARGET_NUMBER</th>\n",
       "      <th>DOSES</th>\n",
       "      <th>COVERAGE</th>\n",
       "    </tr>\n",
       "  </thead>\n",
       "  <tbody>\n",
       "    <tr>\n",
       "      <th>count</th>\n",
       "      <td>399858.000000</td>\n",
       "      <td>3.998580e+05</td>\n",
       "      <td>3.998580e+05</td>\n",
       "      <td>399858.000000</td>\n",
       "    </tr>\n",
       "    <tr>\n",
       "      <th>mean</th>\n",
       "      <td>2009.207489</td>\n",
       "      <td>5.538699e+07</td>\n",
       "      <td>8.478879e+05</td>\n",
       "      <td>64.979455</td>\n",
       "    </tr>\n",
       "    <tr>\n",
       "      <th>std</th>\n",
       "      <td>11.720530</td>\n",
       "      <td>2.407485e+10</td>\n",
       "      <td>5.181967e+06</td>\n",
       "      <td>30.561151</td>\n",
       "    </tr>\n",
       "    <tr>\n",
       "      <th>min</th>\n",
       "      <td>1980.000000</td>\n",
       "      <td>0.000000e+00</td>\n",
       "      <td>-2.222882e+08</td>\n",
       "      <td>-7.410000</td>\n",
       "    </tr>\n",
       "    <tr>\n",
       "      <th>25%</th>\n",
       "      <td>2002.000000</td>\n",
       "      <td>1.950530e+05</td>\n",
       "      <td>8.621800e+04</td>\n",
       "      <td>47.000000</td>\n",
       "    </tr>\n",
       "    <tr>\n",
       "      <th>50%</th>\n",
       "      <td>2012.000000</td>\n",
       "      <td>3.511920e+05</td>\n",
       "      <td>1.802580e+05</td>\n",
       "      <td>73.000000</td>\n",
       "    </tr>\n",
       "    <tr>\n",
       "      <th>75%</th>\n",
       "      <td>2019.000000</td>\n",
       "      <td>4.612320e+05</td>\n",
       "      <td>3.086890e+05</td>\n",
       "      <td>92.000000</td>\n",
       "    </tr>\n",
       "    <tr>\n",
       "      <th>max</th>\n",
       "      <td>2023.000000</td>\n",
       "      <td>1.170000e+13</td>\n",
       "      <td>1.266052e+08</td>\n",
       "      <td>100.000000</td>\n",
       "    </tr>\n",
       "  </tbody>\n",
       "</table>\n",
       "</div>"
      ],
      "text/plain": [
       "                YEAR  TARGET_NUMBER         DOSES       COVERAGE\n",
       "count  399858.000000   3.998580e+05  3.998580e+05  399858.000000\n",
       "mean     2009.207489   5.538699e+07  8.478879e+05      64.979455\n",
       "std        11.720530   2.407485e+10  5.181967e+06      30.561151\n",
       "min      1980.000000   0.000000e+00 -2.222882e+08      -7.410000\n",
       "25%      2002.000000   1.950530e+05  8.621800e+04      47.000000\n",
       "50%      2012.000000   3.511920e+05  1.802580e+05      73.000000\n",
       "75%      2019.000000   4.612320e+05  3.086890e+05      92.000000\n",
       "max      2023.000000   1.170000e+13  1.266052e+08     100.000000"
      ]
     },
     "execution_count": 18,
     "metadata": {},
     "output_type": "execute_result"
    }
   ],
   "source": [
    "coverage_data.describe()"
   ]
  },
  {
   "cell_type": "markdown",
   "id": "9e048885",
   "metadata": {},
   "source": [
    "data2 : incidence-rate-data"
   ]
  },
  {
   "cell_type": "code",
   "execution_count": 19,
   "id": "7a8dfe6e",
   "metadata": {},
   "outputs": [],
   "source": [
    "incidence_rate_data = pd.read_excel(\"incidence-rate-data.xlsx\")"
   ]
  },
  {
   "cell_type": "code",
   "execution_count": 20,
   "id": "8170667c",
   "metadata": {},
   "outputs": [
    {
     "data": {
      "text/html": [
       "<div>\n",
       "<style scoped>\n",
       "    .dataframe tbody tr th:only-of-type {\n",
       "        vertical-align: middle;\n",
       "    }\n",
       "\n",
       "    .dataframe tbody tr th {\n",
       "        vertical-align: top;\n",
       "    }\n",
       "\n",
       "    .dataframe thead th {\n",
       "        text-align: right;\n",
       "    }\n",
       "</style>\n",
       "<table border=\"1\" class=\"dataframe\">\n",
       "  <thead>\n",
       "    <tr style=\"text-align: right;\">\n",
       "      <th></th>\n",
       "      <th>GROUP</th>\n",
       "      <th>CODE</th>\n",
       "      <th>NAME</th>\n",
       "      <th>YEAR</th>\n",
       "      <th>DISEASE</th>\n",
       "      <th>DISEASE_DESCRIPTION</th>\n",
       "      <th>DENOMINATOR</th>\n",
       "      <th>INCIDENCE_RATE</th>\n",
       "    </tr>\n",
       "  </thead>\n",
       "  <tbody>\n",
       "    <tr>\n",
       "      <th>0</th>\n",
       "      <td>COUNTRIES</td>\n",
       "      <td>ABW</td>\n",
       "      <td>Aruba</td>\n",
       "      <td>2023.0</td>\n",
       "      <td>CRS</td>\n",
       "      <td>Congenital rubella syndrome</td>\n",
       "      <td>per 10,000 live births</td>\n",
       "      <td>0.0</td>\n",
       "    </tr>\n",
       "    <tr>\n",
       "      <th>1</th>\n",
       "      <td>COUNTRIES</td>\n",
       "      <td>ABW</td>\n",
       "      <td>Aruba</td>\n",
       "      <td>2023.0</td>\n",
       "      <td>DIPHTHERIA</td>\n",
       "      <td>Diphtheria</td>\n",
       "      <td>per 1,000,000 total population</td>\n",
       "      <td>0.0</td>\n",
       "    </tr>\n",
       "    <tr>\n",
       "      <th>2</th>\n",
       "      <td>COUNTRIES</td>\n",
       "      <td>ABW</td>\n",
       "      <td>Aruba</td>\n",
       "      <td>2023.0</td>\n",
       "      <td>INVASIVE_MENING</td>\n",
       "      <td>Invasive meningococcal disease</td>\n",
       "      <td>per 1,000,000 total population</td>\n",
       "      <td>9.3</td>\n",
       "    </tr>\n",
       "    <tr>\n",
       "      <th>3</th>\n",
       "      <td>COUNTRIES</td>\n",
       "      <td>ABW</td>\n",
       "      <td>Aruba</td>\n",
       "      <td>2023.0</td>\n",
       "      <td>MEASLES</td>\n",
       "      <td>Measles</td>\n",
       "      <td>per 1,000,000 total population</td>\n",
       "      <td>NaN</td>\n",
       "    </tr>\n",
       "    <tr>\n",
       "      <th>4</th>\n",
       "      <td>COUNTRIES</td>\n",
       "      <td>ABW</td>\n",
       "      <td>Aruba</td>\n",
       "      <td>2023.0</td>\n",
       "      <td>MUMPS</td>\n",
       "      <td>Mumps</td>\n",
       "      <td>per 1,000,000 total population</td>\n",
       "      <td>0.0</td>\n",
       "    </tr>\n",
       "  </tbody>\n",
       "</table>\n",
       "</div>"
      ],
      "text/plain": [
       "       GROUP CODE   NAME    YEAR          DISEASE  \\\n",
       "0  COUNTRIES  ABW  Aruba  2023.0              CRS   \n",
       "1  COUNTRIES  ABW  Aruba  2023.0       DIPHTHERIA   \n",
       "2  COUNTRIES  ABW  Aruba  2023.0  INVASIVE_MENING   \n",
       "3  COUNTRIES  ABW  Aruba  2023.0          MEASLES   \n",
       "4  COUNTRIES  ABW  Aruba  2023.0            MUMPS   \n",
       "\n",
       "              DISEASE_DESCRIPTION                     DENOMINATOR  \\\n",
       "0     Congenital rubella syndrome          per 10,000 live births   \n",
       "1                      Diphtheria  per 1,000,000 total population   \n",
       "2  Invasive meningococcal disease  per 1,000,000 total population   \n",
       "3                         Measles  per 1,000,000 total population   \n",
       "4                           Mumps  per 1,000,000 total population   \n",
       "\n",
       "   INCIDENCE_RATE  \n",
       "0             0.0  \n",
       "1             0.0  \n",
       "2             9.3  \n",
       "3             NaN  \n",
       "4             0.0  "
      ]
     },
     "execution_count": 20,
     "metadata": {},
     "output_type": "execute_result"
    }
   ],
   "source": [
    "incidence_rate_data.head()"
   ]
  },
  {
   "cell_type": "code",
   "execution_count": 21,
   "id": "b463aad0",
   "metadata": {},
   "outputs": [
    {
     "data": {
      "text/plain": [
       "(84946, 8)"
      ]
     },
     "execution_count": 21,
     "metadata": {},
     "output_type": "execute_result"
    }
   ],
   "source": [
    "incidence_rate_data.shape"
   ]
  },
  {
   "cell_type": "code",
   "execution_count": 22,
   "id": "3a11ca06",
   "metadata": {},
   "outputs": [
    {
     "name": "stdout",
     "output_type": "stream",
     "text": [
      "<class 'pandas.core.frame.DataFrame'>\n",
      "RangeIndex: 84946 entries, 0 to 84945\n",
      "Data columns (total 8 columns):\n",
      " #   Column               Non-Null Count  Dtype  \n",
      "---  ------               --------------  -----  \n",
      " 0   GROUP                84946 non-null  object \n",
      " 1   CODE                 84945 non-null  object \n",
      " 2   NAME                 84945 non-null  object \n",
      " 3   YEAR                 84945 non-null  float64\n",
      " 4   DISEASE              84945 non-null  object \n",
      " 5   DISEASE_DESCRIPTION  84945 non-null  object \n",
      " 6   DENOMINATOR          84945 non-null  object \n",
      " 7   INCIDENCE_RATE       61584 non-null  float64\n",
      "dtypes: float64(2), object(6)\n",
      "memory usage: 5.2+ MB\n"
     ]
    }
   ],
   "source": [
    "incidence_rate_data.info()"
   ]
  },
  {
   "cell_type": "code",
   "execution_count": 23,
   "id": "8db27e74",
   "metadata": {},
   "outputs": [
    {
     "data": {
      "text/plain": [
       "GROUP                      0\n",
       "CODE                       1\n",
       "NAME                       1\n",
       "YEAR                       1\n",
       "DISEASE                    1\n",
       "DISEASE_DESCRIPTION        1\n",
       "DENOMINATOR                1\n",
       "INCIDENCE_RATE         23362\n",
       "dtype: int64"
      ]
     },
     "execution_count": 23,
     "metadata": {},
     "output_type": "execute_result"
    }
   ],
   "source": [
    "incidence_rate_data.isnull().sum()"
   ]
  },
  {
   "cell_type": "markdown",
   "id": "0b7bbf68",
   "metadata": {},
   "source": [
    "Handle Missing Data"
   ]
  },
  {
   "cell_type": "code",
   "execution_count": 24,
   "id": "c186b6d2",
   "metadata": {},
   "outputs": [
    {
     "data": {
      "text/html": [
       "<div>\n",
       "<style scoped>\n",
       "    .dataframe tbody tr th:only-of-type {\n",
       "        vertical-align: middle;\n",
       "    }\n",
       "\n",
       "    .dataframe tbody tr th {\n",
       "        vertical-align: top;\n",
       "    }\n",
       "\n",
       "    .dataframe thead th {\n",
       "        text-align: right;\n",
       "    }\n",
       "</style>\n",
       "<table border=\"1\" class=\"dataframe\">\n",
       "  <thead>\n",
       "    <tr style=\"text-align: right;\">\n",
       "      <th></th>\n",
       "      <th>GROUP</th>\n",
       "      <th>CODE</th>\n",
       "      <th>NAME</th>\n",
       "      <th>YEAR</th>\n",
       "      <th>DISEASE</th>\n",
       "      <th>DISEASE_DESCRIPTION</th>\n",
       "      <th>DENOMINATOR</th>\n",
       "      <th>INCIDENCE_RATE</th>\n",
       "    </tr>\n",
       "  </thead>\n",
       "  <tbody>\n",
       "    <tr>\n",
       "      <th>84945</th>\n",
       "      <td>Created: 2025-02-01 16:03 UTC</td>\n",
       "      <td>NaN</td>\n",
       "      <td>NaN</td>\n",
       "      <td>NaN</td>\n",
       "      <td>NaN</td>\n",
       "      <td>NaN</td>\n",
       "      <td>NaN</td>\n",
       "      <td>NaN</td>\n",
       "    </tr>\n",
       "  </tbody>\n",
       "</table>\n",
       "</div>"
      ],
      "text/plain": [
       "                               GROUP CODE NAME  YEAR DISEASE  \\\n",
       "84945  Created: 2025-02-01 16:03 UTC  NaN  NaN   NaN     NaN   \n",
       "\n",
       "      DISEASE_DESCRIPTION DENOMINATOR  INCIDENCE_RATE  \n",
       "84945                 NaN         NaN             NaN  "
      ]
     },
     "execution_count": 24,
     "metadata": {},
     "output_type": "execute_result"
    }
   ],
   "source": [
    "# Count NaNs per row\n",
    "nan_counts = incidence_rate_data.isna().sum(axis=1)\n",
    "\n",
    "# Get the maximum number of NaNs in any row\n",
    "max_nans = nan_counts.max()\n",
    "\n",
    "# Get row(s) where number of NaNs equals the maximum\n",
    "rows_with_most_nans = incidence_rate_data[nan_counts == max_nans]\n",
    "rows_with_most_nans"
   ]
  },
  {
   "cell_type": "code",
   "execution_count": 25,
   "id": "39e1c328",
   "metadata": {},
   "outputs": [],
   "source": [
    "# dropping the row where all the values are NaN\n",
    "incidence_rate_data = incidence_rate_data.drop(index=84945)"
   ]
  },
  {
   "cell_type": "code",
   "execution_count": 26,
   "id": "c3ac1bbb",
   "metadata": {},
   "outputs": [],
   "source": [
    "# impute missing values using group median\n",
    "incidence_rate_data['INCIDENCE_RATE'] = incidence_rate_data.groupby(['DISEASE'])['INCIDENCE_RATE'].transform(lambda x: x.fillna(x.median()))"
   ]
  },
  {
   "cell_type": "code",
   "execution_count": 27,
   "id": "8739944c",
   "metadata": {},
   "outputs": [
    {
     "data": {
      "text/plain": [
       "GROUP                  0\n",
       "CODE                   0\n",
       "NAME                   0\n",
       "YEAR                   0\n",
       "DISEASE                0\n",
       "DISEASE_DESCRIPTION    0\n",
       "DENOMINATOR            0\n",
       "INCIDENCE_RATE         0\n",
       "dtype: int64"
      ]
     },
     "execution_count": 27,
     "metadata": {},
     "output_type": "execute_result"
    }
   ],
   "source": [
    "incidence_rate_data.isnull().sum()"
   ]
  },
  {
   "cell_type": "markdown",
   "id": "3289ad92",
   "metadata": {},
   "source": [
    "Normalize Units & Date Consistency"
   ]
  },
  {
   "cell_type": "code",
   "execution_count": 28,
   "id": "cbfebf31",
   "metadata": {},
   "outputs": [],
   "source": [
    "# Convert YEAR to integer\n",
    "incidence_rate_data['YEAR'] = incidence_rate_data['YEAR'].astype(int)"
   ]
  },
  {
   "cell_type": "markdown",
   "id": "44ff7501",
   "metadata": {},
   "source": [
    "Standardizing the text format"
   ]
  },
  {
   "cell_type": "code",
   "execution_count": 29,
   "id": "bd5714e2",
   "metadata": {},
   "outputs": [
    {
     "data": {
      "text/plain": [
       "array(['per 10,000 live births', 'per 1,000,000 total population',\n",
       "       'per 1,000 live births', 'per 1,000,000 <15 population',\n",
       "       'per 1000 live births'], dtype=object)"
      ]
     },
     "execution_count": 29,
     "metadata": {},
     "output_type": "execute_result"
    }
   ],
   "source": [
    "incidence_rate_data[\"DENOMINATOR\"].unique()"
   ]
  },
  {
   "cell_type": "code",
   "execution_count": 30,
   "id": "bb5456ef",
   "metadata": {},
   "outputs": [],
   "source": [
    "# Standardize the text\n",
    "incidence_rate_data['DENOMINATOR'] = incidence_rate_data['DENOMINATOR'].replace({'per 1000 live births': 'per 1,000 live births'})"
   ]
  },
  {
   "cell_type": "code",
   "execution_count": 31,
   "id": "575a54bb",
   "metadata": {},
   "outputs": [
    {
     "data": {
      "text/html": [
       "<div>\n",
       "<style scoped>\n",
       "    .dataframe tbody tr th:only-of-type {\n",
       "        vertical-align: middle;\n",
       "    }\n",
       "\n",
       "    .dataframe tbody tr th {\n",
       "        vertical-align: top;\n",
       "    }\n",
       "\n",
       "    .dataframe thead th {\n",
       "        text-align: right;\n",
       "    }\n",
       "</style>\n",
       "<table border=\"1\" class=\"dataframe\">\n",
       "  <thead>\n",
       "    <tr style=\"text-align: right;\">\n",
       "      <th></th>\n",
       "      <th>GROUP</th>\n",
       "      <th>CODE</th>\n",
       "      <th>NAME</th>\n",
       "      <th>YEAR</th>\n",
       "      <th>DISEASE</th>\n",
       "      <th>DISEASE_DESCRIPTION</th>\n",
       "      <th>DENOMINATOR</th>\n",
       "      <th>INCIDENCE_RATE</th>\n",
       "    </tr>\n",
       "  </thead>\n",
       "  <tbody>\n",
       "    <tr>\n",
       "      <th>0</th>\n",
       "      <td>COUNTRIES</td>\n",
       "      <td>ABW</td>\n",
       "      <td>Aruba</td>\n",
       "      <td>2023</td>\n",
       "      <td>CRS</td>\n",
       "      <td>Congenital rubella syndrome</td>\n",
       "      <td>per 10,000 live births</td>\n",
       "      <td>0.0</td>\n",
       "    </tr>\n",
       "    <tr>\n",
       "      <th>1</th>\n",
       "      <td>COUNTRIES</td>\n",
       "      <td>ABW</td>\n",
       "      <td>Aruba</td>\n",
       "      <td>2023</td>\n",
       "      <td>DIPHTHERIA</td>\n",
       "      <td>Diphtheria</td>\n",
       "      <td>per 1,000,000 total population</td>\n",
       "      <td>0.0</td>\n",
       "    </tr>\n",
       "    <tr>\n",
       "      <th>2</th>\n",
       "      <td>COUNTRIES</td>\n",
       "      <td>ABW</td>\n",
       "      <td>Aruba</td>\n",
       "      <td>2023</td>\n",
       "      <td>INVASIVE_MENING</td>\n",
       "      <td>Invasive meningococcal disease</td>\n",
       "      <td>per 1,000,000 total population</td>\n",
       "      <td>9.3</td>\n",
       "    </tr>\n",
       "    <tr>\n",
       "      <th>3</th>\n",
       "      <td>COUNTRIES</td>\n",
       "      <td>ABW</td>\n",
       "      <td>Aruba</td>\n",
       "      <td>2023</td>\n",
       "      <td>MEASLES</td>\n",
       "      <td>Measles</td>\n",
       "      <td>per 1,000,000 total population</td>\n",
       "      <td>16.5</td>\n",
       "    </tr>\n",
       "    <tr>\n",
       "      <th>4</th>\n",
       "      <td>COUNTRIES</td>\n",
       "      <td>ABW</td>\n",
       "      <td>Aruba</td>\n",
       "      <td>2023</td>\n",
       "      <td>MUMPS</td>\n",
       "      <td>Mumps</td>\n",
       "      <td>per 1,000,000 total population</td>\n",
       "      <td>0.0</td>\n",
       "    </tr>\n",
       "    <tr>\n",
       "      <th>...</th>\n",
       "      <td>...</td>\n",
       "      <td>...</td>\n",
       "      <td>...</td>\n",
       "      <td>...</td>\n",
       "      <td>...</td>\n",
       "      <td>...</td>\n",
       "      <td>...</td>\n",
       "      <td>...</td>\n",
       "    </tr>\n",
       "    <tr>\n",
       "      <th>84940</th>\n",
       "      <td>COUNTRIES</td>\n",
       "      <td>ZWE</td>\n",
       "      <td>Zimbabwe</td>\n",
       "      <td>1980</td>\n",
       "      <td>NTETANUS</td>\n",
       "      <td>Neonatal tetanus</td>\n",
       "      <td>per 1,000 live births</td>\n",
       "      <td>0.4</td>\n",
       "    </tr>\n",
       "    <tr>\n",
       "      <th>84941</th>\n",
       "      <td>COUNTRIES</td>\n",
       "      <td>ZWE</td>\n",
       "      <td>Zimbabwe</td>\n",
       "      <td>1980</td>\n",
       "      <td>PERTUSSIS</td>\n",
       "      <td>Pertussis</td>\n",
       "      <td>per 1,000,000 total population</td>\n",
       "      <td>893.3</td>\n",
       "    </tr>\n",
       "    <tr>\n",
       "      <th>84942</th>\n",
       "      <td>COUNTRIES</td>\n",
       "      <td>ZWE</td>\n",
       "      <td>Zimbabwe</td>\n",
       "      <td>1980</td>\n",
       "      <td>POLIO</td>\n",
       "      <td>Poliomyelitis</td>\n",
       "      <td>per 1,000,000 &lt;15 population</td>\n",
       "      <td>0.0</td>\n",
       "    </tr>\n",
       "    <tr>\n",
       "      <th>84943</th>\n",
       "      <td>COUNTRIES</td>\n",
       "      <td>ZWE</td>\n",
       "      <td>Zimbabwe</td>\n",
       "      <td>1980</td>\n",
       "      <td>TTETANUS</td>\n",
       "      <td>Total tetanus</td>\n",
       "      <td>per 1,000,000 total population</td>\n",
       "      <td>19.7</td>\n",
       "    </tr>\n",
       "    <tr>\n",
       "      <th>84944</th>\n",
       "      <td>COUNTRIES</td>\n",
       "      <td>ZWE</td>\n",
       "      <td>Zimbabwe</td>\n",
       "      <td>1980</td>\n",
       "      <td>YFEVER</td>\n",
       "      <td>Yellow fever</td>\n",
       "      <td>per 1,000,000 total population</td>\n",
       "      <td>0.0</td>\n",
       "    </tr>\n",
       "  </tbody>\n",
       "</table>\n",
       "<p>84945 rows × 8 columns</p>\n",
       "</div>"
      ],
      "text/plain": [
       "           GROUP CODE      NAME  YEAR          DISEASE  \\\n",
       "0      COUNTRIES  ABW     Aruba  2023              CRS   \n",
       "1      COUNTRIES  ABW     Aruba  2023       DIPHTHERIA   \n",
       "2      COUNTRIES  ABW     Aruba  2023  INVASIVE_MENING   \n",
       "3      COUNTRIES  ABW     Aruba  2023          MEASLES   \n",
       "4      COUNTRIES  ABW     Aruba  2023            MUMPS   \n",
       "...          ...  ...       ...   ...              ...   \n",
       "84940  COUNTRIES  ZWE  Zimbabwe  1980         NTETANUS   \n",
       "84941  COUNTRIES  ZWE  Zimbabwe  1980        PERTUSSIS   \n",
       "84942  COUNTRIES  ZWE  Zimbabwe  1980            POLIO   \n",
       "84943  COUNTRIES  ZWE  Zimbabwe  1980         TTETANUS   \n",
       "84944  COUNTRIES  ZWE  Zimbabwe  1980           YFEVER   \n",
       "\n",
       "                  DISEASE_DESCRIPTION                     DENOMINATOR  \\\n",
       "0         Congenital rubella syndrome          per 10,000 live births   \n",
       "1                          Diphtheria  per 1,000,000 total population   \n",
       "2      Invasive meningococcal disease  per 1,000,000 total population   \n",
       "3                             Measles  per 1,000,000 total population   \n",
       "4                               Mumps  per 1,000,000 total population   \n",
       "...                               ...                             ...   \n",
       "84940                Neonatal tetanus           per 1,000 live births   \n",
       "84941                       Pertussis  per 1,000,000 total population   \n",
       "84942                   Poliomyelitis    per 1,000,000 <15 population   \n",
       "84943                   Total tetanus  per 1,000,000 total population   \n",
       "84944                    Yellow fever  per 1,000,000 total population   \n",
       "\n",
       "       INCIDENCE_RATE  \n",
       "0                 0.0  \n",
       "1                 0.0  \n",
       "2                 9.3  \n",
       "3                16.5  \n",
       "4                 0.0  \n",
       "...               ...  \n",
       "84940             0.4  \n",
       "84941           893.3  \n",
       "84942             0.0  \n",
       "84943            19.7  \n",
       "84944             0.0  \n",
       "\n",
       "[84945 rows x 8 columns]"
      ]
     },
     "execution_count": 31,
     "metadata": {},
     "output_type": "execute_result"
    }
   ],
   "source": [
    "incidence_rate_data"
   ]
  },
  {
   "cell_type": "code",
   "execution_count": 32,
   "id": "ab59cd7b",
   "metadata": {},
   "outputs": [
    {
     "data": {
      "text/plain": [
       "count    84945.000000\n",
       "mean        79.828795\n",
       "std        846.253958\n",
       "min          0.000000\n",
       "25%          0.000000\n",
       "50%          0.000000\n",
       "75%          2.800000\n",
       "max      69101.300000\n",
       "Name: INCIDENCE_RATE, dtype: float64"
      ]
     },
     "execution_count": 32,
     "metadata": {},
     "output_type": "execute_result"
    }
   ],
   "source": [
    "incidence_rate_data['INCIDENCE_RATE'].describe()"
   ]
  },
  {
   "cell_type": "markdown",
   "id": "773174c1",
   "metadata": {},
   "source": [
    "data3 : reported-cases-data"
   ]
  },
  {
   "cell_type": "code",
   "execution_count": 33,
   "id": "17c8a990",
   "metadata": {},
   "outputs": [],
   "source": [
    "reported_cases_data = pd.read_excel(\"reported-cases-data.xlsx\")"
   ]
  },
  {
   "cell_type": "code",
   "execution_count": 34,
   "id": "19c63ec4",
   "metadata": {},
   "outputs": [
    {
     "data": {
      "text/html": [
       "<div>\n",
       "<style scoped>\n",
       "    .dataframe tbody tr th:only-of-type {\n",
       "        vertical-align: middle;\n",
       "    }\n",
       "\n",
       "    .dataframe tbody tr th {\n",
       "        vertical-align: top;\n",
       "    }\n",
       "\n",
       "    .dataframe thead th {\n",
       "        text-align: right;\n",
       "    }\n",
       "</style>\n",
       "<table border=\"1\" class=\"dataframe\">\n",
       "  <thead>\n",
       "    <tr style=\"text-align: right;\">\n",
       "      <th></th>\n",
       "      <th>GROUP</th>\n",
       "      <th>CODE</th>\n",
       "      <th>NAME</th>\n",
       "      <th>YEAR</th>\n",
       "      <th>DISEASE</th>\n",
       "      <th>DISEASE_DESCRIPTION</th>\n",
       "      <th>CASES</th>\n",
       "    </tr>\n",
       "  </thead>\n",
       "  <tbody>\n",
       "    <tr>\n",
       "      <th>0</th>\n",
       "      <td>COUNTRIES</td>\n",
       "      <td>ABW</td>\n",
       "      <td>Aruba</td>\n",
       "      <td>2023.0</td>\n",
       "      <td>CRS</td>\n",
       "      <td>Congenital rubella syndrome</td>\n",
       "      <td>0.0</td>\n",
       "    </tr>\n",
       "    <tr>\n",
       "      <th>1</th>\n",
       "      <td>COUNTRIES</td>\n",
       "      <td>ABW</td>\n",
       "      <td>Aruba</td>\n",
       "      <td>2023.0</td>\n",
       "      <td>DIPHTHERIA</td>\n",
       "      <td>Diphtheria</td>\n",
       "      <td>0.0</td>\n",
       "    </tr>\n",
       "    <tr>\n",
       "      <th>2</th>\n",
       "      <td>COUNTRIES</td>\n",
       "      <td>ABW</td>\n",
       "      <td>Aruba</td>\n",
       "      <td>2023.0</td>\n",
       "      <td>INVASIVE_MENING</td>\n",
       "      <td>Invasive meningococcal disease</td>\n",
       "      <td>1.0</td>\n",
       "    </tr>\n",
       "    <tr>\n",
       "      <th>3</th>\n",
       "      <td>COUNTRIES</td>\n",
       "      <td>ABW</td>\n",
       "      <td>Aruba</td>\n",
       "      <td>2023.0</td>\n",
       "      <td>MEASLES</td>\n",
       "      <td>Measles</td>\n",
       "      <td>NaN</td>\n",
       "    </tr>\n",
       "    <tr>\n",
       "      <th>4</th>\n",
       "      <td>COUNTRIES</td>\n",
       "      <td>ABW</td>\n",
       "      <td>Aruba</td>\n",
       "      <td>2023.0</td>\n",
       "      <td>MUMPS</td>\n",
       "      <td>Mumps</td>\n",
       "      <td>0.0</td>\n",
       "    </tr>\n",
       "  </tbody>\n",
       "</table>\n",
       "</div>"
      ],
      "text/plain": [
       "       GROUP CODE   NAME    YEAR          DISEASE  \\\n",
       "0  COUNTRIES  ABW  Aruba  2023.0              CRS   \n",
       "1  COUNTRIES  ABW  Aruba  2023.0       DIPHTHERIA   \n",
       "2  COUNTRIES  ABW  Aruba  2023.0  INVASIVE_MENING   \n",
       "3  COUNTRIES  ABW  Aruba  2023.0          MEASLES   \n",
       "4  COUNTRIES  ABW  Aruba  2023.0            MUMPS   \n",
       "\n",
       "              DISEASE_DESCRIPTION  CASES  \n",
       "0     Congenital rubella syndrome    0.0  \n",
       "1                      Diphtheria    0.0  \n",
       "2  Invasive meningococcal disease    1.0  \n",
       "3                         Measles    NaN  \n",
       "4                           Mumps    0.0  "
      ]
     },
     "execution_count": 34,
     "metadata": {},
     "output_type": "execute_result"
    }
   ],
   "source": [
    "reported_cases_data.head()"
   ]
  },
  {
   "cell_type": "code",
   "execution_count": 35,
   "id": "eacfd26f",
   "metadata": {},
   "outputs": [
    {
     "data": {
      "text/plain": [
       "(84870, 7)"
      ]
     },
     "execution_count": 35,
     "metadata": {},
     "output_type": "execute_result"
    }
   ],
   "source": [
    "reported_cases_data.shape"
   ]
  },
  {
   "cell_type": "code",
   "execution_count": 36,
   "id": "50ad92c3",
   "metadata": {},
   "outputs": [
    {
     "name": "stdout",
     "output_type": "stream",
     "text": [
      "<class 'pandas.core.frame.DataFrame'>\n",
      "RangeIndex: 84870 entries, 0 to 84869\n",
      "Data columns (total 7 columns):\n",
      " #   Column               Non-Null Count  Dtype  \n",
      "---  ------               --------------  -----  \n",
      " 0   GROUP                84870 non-null  object \n",
      " 1   CODE                 84869 non-null  object \n",
      " 2   NAME                 84869 non-null  object \n",
      " 3   YEAR                 84869 non-null  float64\n",
      " 4   DISEASE              84869 non-null  object \n",
      " 5   DISEASE_DESCRIPTION  84869 non-null  object \n",
      " 6   CASES                65470 non-null  float64\n",
      "dtypes: float64(2), object(5)\n",
      "memory usage: 4.5+ MB\n"
     ]
    }
   ],
   "source": [
    "reported_cases_data.info()"
   ]
  },
  {
   "cell_type": "code",
   "execution_count": 37,
   "id": "efc49ee1",
   "metadata": {},
   "outputs": [
    {
     "data": {
      "text/plain": [
       "GROUP                      0\n",
       "CODE                       1\n",
       "NAME                       1\n",
       "YEAR                       1\n",
       "DISEASE                    1\n",
       "DISEASE_DESCRIPTION        1\n",
       "CASES                  19400\n",
       "dtype: int64"
      ]
     },
     "execution_count": 37,
     "metadata": {},
     "output_type": "execute_result"
    }
   ],
   "source": [
    "reported_cases_data.isnull().sum()"
   ]
  },
  {
   "cell_type": "markdown",
   "id": "a01f6ad3",
   "metadata": {},
   "source": [
    "Handle Missing Data"
   ]
  },
  {
   "cell_type": "code",
   "execution_count": 38,
   "id": "53e76848",
   "metadata": {},
   "outputs": [
    {
     "data": {
      "text/html": [
       "<div>\n",
       "<style scoped>\n",
       "    .dataframe tbody tr th:only-of-type {\n",
       "        vertical-align: middle;\n",
       "    }\n",
       "\n",
       "    .dataframe tbody tr th {\n",
       "        vertical-align: top;\n",
       "    }\n",
       "\n",
       "    .dataframe thead th {\n",
       "        text-align: right;\n",
       "    }\n",
       "</style>\n",
       "<table border=\"1\" class=\"dataframe\">\n",
       "  <thead>\n",
       "    <tr style=\"text-align: right;\">\n",
       "      <th></th>\n",
       "      <th>GROUP</th>\n",
       "      <th>CODE</th>\n",
       "      <th>NAME</th>\n",
       "      <th>YEAR</th>\n",
       "      <th>DISEASE</th>\n",
       "      <th>DISEASE_DESCRIPTION</th>\n",
       "      <th>CASES</th>\n",
       "    </tr>\n",
       "  </thead>\n",
       "  <tbody>\n",
       "    <tr>\n",
       "      <th>84869</th>\n",
       "      <td>Created: 2025-02-01 16:02 UTC</td>\n",
       "      <td>NaN</td>\n",
       "      <td>NaN</td>\n",
       "      <td>NaN</td>\n",
       "      <td>NaN</td>\n",
       "      <td>NaN</td>\n",
       "      <td>NaN</td>\n",
       "    </tr>\n",
       "  </tbody>\n",
       "</table>\n",
       "</div>"
      ],
      "text/plain": [
       "                               GROUP CODE NAME  YEAR DISEASE  \\\n",
       "84869  Created: 2025-02-01 16:02 UTC  NaN  NaN   NaN     NaN   \n",
       "\n",
       "      DISEASE_DESCRIPTION  CASES  \n",
       "84869                 NaN    NaN  "
      ]
     },
     "execution_count": 38,
     "metadata": {},
     "output_type": "execute_result"
    }
   ],
   "source": [
    "# Count NaNs per row\n",
    "nan_counts = reported_cases_data.isna().sum(axis=1)\n",
    "\n",
    "# Get the maximum number of NaNs in any row\n",
    "max_nans = nan_counts.max()\n",
    "\n",
    "# Get row(s) where number of NaNs equals the maximum\n",
    "rows_with_most_nans = reported_cases_data[nan_counts == max_nans]\n",
    "rows_with_most_nans"
   ]
  },
  {
   "cell_type": "code",
   "execution_count": 39,
   "id": "c89f6af1",
   "metadata": {},
   "outputs": [],
   "source": [
    "# dropping the row where all the values are NaN\n",
    "reported_cases_data = reported_cases_data.drop(index=84869)"
   ]
  },
  {
   "cell_type": "code",
   "execution_count": 40,
   "id": "6137c623",
   "metadata": {},
   "outputs": [],
   "source": [
    "# impute missing values using group median\n",
    "reported_cases_data['CASES'] = reported_cases_data.groupby(['DISEASE'])['CASES'].transform(lambda x: x.fillna(x.median()))"
   ]
  },
  {
   "cell_type": "code",
   "execution_count": 41,
   "id": "a3454774",
   "metadata": {},
   "outputs": [
    {
     "data": {
      "text/plain": [
       "GROUP                  0\n",
       "CODE                   0\n",
       "NAME                   0\n",
       "YEAR                   0\n",
       "DISEASE                0\n",
       "DISEASE_DESCRIPTION    0\n",
       "CASES                  0\n",
       "dtype: int64"
      ]
     },
     "execution_count": 41,
     "metadata": {},
     "output_type": "execute_result"
    }
   ],
   "source": [
    "reported_cases_data.isnull().sum()"
   ]
  },
  {
   "cell_type": "markdown",
   "id": "23206097",
   "metadata": {},
   "source": [
    "Normalize Units & Date Consistency"
   ]
  },
  {
   "cell_type": "code",
   "execution_count": 42,
   "id": "feb557db",
   "metadata": {},
   "outputs": [],
   "source": [
    "# Convert YEAR,CASES to integer\n",
    "reported_cases_data['YEAR'] = reported_cases_data['YEAR'].astype(int)\n",
    "reported_cases_data['CASES'] = reported_cases_data['CASES'].astype(int)"
   ]
  },
  {
   "cell_type": "code",
   "execution_count": 43,
   "id": "82477499",
   "metadata": {},
   "outputs": [
    {
     "data": {
      "text/html": [
       "<div>\n",
       "<style scoped>\n",
       "    .dataframe tbody tr th:only-of-type {\n",
       "        vertical-align: middle;\n",
       "    }\n",
       "\n",
       "    .dataframe tbody tr th {\n",
       "        vertical-align: top;\n",
       "    }\n",
       "\n",
       "    .dataframe thead th {\n",
       "        text-align: right;\n",
       "    }\n",
       "</style>\n",
       "<table border=\"1\" class=\"dataframe\">\n",
       "  <thead>\n",
       "    <tr style=\"text-align: right;\">\n",
       "      <th></th>\n",
       "      <th>GROUP</th>\n",
       "      <th>CODE</th>\n",
       "      <th>NAME</th>\n",
       "      <th>YEAR</th>\n",
       "      <th>DISEASE</th>\n",
       "      <th>DISEASE_DESCRIPTION</th>\n",
       "      <th>CASES</th>\n",
       "    </tr>\n",
       "  </thead>\n",
       "  <tbody>\n",
       "    <tr>\n",
       "      <th>0</th>\n",
       "      <td>COUNTRIES</td>\n",
       "      <td>ABW</td>\n",
       "      <td>Aruba</td>\n",
       "      <td>2023</td>\n",
       "      <td>CRS</td>\n",
       "      <td>Congenital rubella syndrome</td>\n",
       "      <td>0</td>\n",
       "    </tr>\n",
       "    <tr>\n",
       "      <th>1</th>\n",
       "      <td>COUNTRIES</td>\n",
       "      <td>ABW</td>\n",
       "      <td>Aruba</td>\n",
       "      <td>2023</td>\n",
       "      <td>DIPHTHERIA</td>\n",
       "      <td>Diphtheria</td>\n",
       "      <td>0</td>\n",
       "    </tr>\n",
       "    <tr>\n",
       "      <th>2</th>\n",
       "      <td>COUNTRIES</td>\n",
       "      <td>ABW</td>\n",
       "      <td>Aruba</td>\n",
       "      <td>2023</td>\n",
       "      <td>INVASIVE_MENING</td>\n",
       "      <td>Invasive meningococcal disease</td>\n",
       "      <td>1</td>\n",
       "    </tr>\n",
       "    <tr>\n",
       "      <th>3</th>\n",
       "      <td>COUNTRIES</td>\n",
       "      <td>ABW</td>\n",
       "      <td>Aruba</td>\n",
       "      <td>2023</td>\n",
       "      <td>MEASLES</td>\n",
       "      <td>Measles</td>\n",
       "      <td>104</td>\n",
       "    </tr>\n",
       "    <tr>\n",
       "      <th>4</th>\n",
       "      <td>COUNTRIES</td>\n",
       "      <td>ABW</td>\n",
       "      <td>Aruba</td>\n",
       "      <td>2023</td>\n",
       "      <td>MUMPS</td>\n",
       "      <td>Mumps</td>\n",
       "      <td>0</td>\n",
       "    </tr>\n",
       "    <tr>\n",
       "      <th>...</th>\n",
       "      <td>...</td>\n",
       "      <td>...</td>\n",
       "      <td>...</td>\n",
       "      <td>...</td>\n",
       "      <td>...</td>\n",
       "      <td>...</td>\n",
       "      <td>...</td>\n",
       "    </tr>\n",
       "    <tr>\n",
       "      <th>84864</th>\n",
       "      <td>COUNTRIES</td>\n",
       "      <td>ZWE</td>\n",
       "      <td>Zimbabwe</td>\n",
       "      <td>1980</td>\n",
       "      <td>NTETANUS</td>\n",
       "      <td>Neonatal tetanus</td>\n",
       "      <td>134</td>\n",
       "    </tr>\n",
       "    <tr>\n",
       "      <th>84865</th>\n",
       "      <td>COUNTRIES</td>\n",
       "      <td>ZWE</td>\n",
       "      <td>Zimbabwe</td>\n",
       "      <td>1980</td>\n",
       "      <td>PERTUSSIS</td>\n",
       "      <td>Pertussis</td>\n",
       "      <td>6290</td>\n",
       "    </tr>\n",
       "    <tr>\n",
       "      <th>84866</th>\n",
       "      <td>COUNTRIES</td>\n",
       "      <td>ZWE</td>\n",
       "      <td>Zimbabwe</td>\n",
       "      <td>1980</td>\n",
       "      <td>POLIO</td>\n",
       "      <td>Poliomyelitis</td>\n",
       "      <td>32</td>\n",
       "    </tr>\n",
       "    <tr>\n",
       "      <th>84867</th>\n",
       "      <td>COUNTRIES</td>\n",
       "      <td>ZWE</td>\n",
       "      <td>Zimbabwe</td>\n",
       "      <td>1980</td>\n",
       "      <td>TTETANUS</td>\n",
       "      <td>Total tetanus</td>\n",
       "      <td>139</td>\n",
       "    </tr>\n",
       "    <tr>\n",
       "      <th>84868</th>\n",
       "      <td>COUNTRIES</td>\n",
       "      <td>ZWE</td>\n",
       "      <td>Zimbabwe</td>\n",
       "      <td>1980</td>\n",
       "      <td>YFEVER</td>\n",
       "      <td>Yellow fever</td>\n",
       "      <td>0</td>\n",
       "    </tr>\n",
       "  </tbody>\n",
       "</table>\n",
       "<p>84869 rows × 7 columns</p>\n",
       "</div>"
      ],
      "text/plain": [
       "           GROUP CODE      NAME  YEAR          DISEASE  \\\n",
       "0      COUNTRIES  ABW     Aruba  2023              CRS   \n",
       "1      COUNTRIES  ABW     Aruba  2023       DIPHTHERIA   \n",
       "2      COUNTRIES  ABW     Aruba  2023  INVASIVE_MENING   \n",
       "3      COUNTRIES  ABW     Aruba  2023          MEASLES   \n",
       "4      COUNTRIES  ABW     Aruba  2023            MUMPS   \n",
       "...          ...  ...       ...   ...              ...   \n",
       "84864  COUNTRIES  ZWE  Zimbabwe  1980         NTETANUS   \n",
       "84865  COUNTRIES  ZWE  Zimbabwe  1980        PERTUSSIS   \n",
       "84866  COUNTRIES  ZWE  Zimbabwe  1980            POLIO   \n",
       "84867  COUNTRIES  ZWE  Zimbabwe  1980         TTETANUS   \n",
       "84868  COUNTRIES  ZWE  Zimbabwe  1980           YFEVER   \n",
       "\n",
       "                  DISEASE_DESCRIPTION  CASES  \n",
       "0         Congenital rubella syndrome      0  \n",
       "1                          Diphtheria      0  \n",
       "2      Invasive meningococcal disease      1  \n",
       "3                             Measles    104  \n",
       "4                               Mumps      0  \n",
       "...                               ...    ...  \n",
       "84864                Neonatal tetanus    134  \n",
       "84865                       Pertussis   6290  \n",
       "84866                   Poliomyelitis     32  \n",
       "84867                   Total tetanus    139  \n",
       "84868                    Yellow fever      0  \n",
       "\n",
       "[84869 rows x 7 columns]"
      ]
     },
     "execution_count": 43,
     "metadata": {},
     "output_type": "execute_result"
    }
   ],
   "source": [
    "reported_cases_data"
   ]
  },
  {
   "cell_type": "code",
   "execution_count": 44,
   "id": "7a26be74",
   "metadata": {},
   "outputs": [
    {
     "data": {
      "text/plain": [
       "count    8.486900e+04\n",
       "mean     3.452942e+03\n",
       "std      5.373628e+04\n",
       "min      0.000000e+00\n",
       "25%      0.000000e+00\n",
       "50%      0.000000e+00\n",
       "75%      4.500000e+01\n",
       "max      4.583555e+06\n",
       "Name: CASES, dtype: float64"
      ]
     },
     "execution_count": 44,
     "metadata": {},
     "output_type": "execute_result"
    }
   ],
   "source": [
    "reported_cases_data['CASES'].describe()"
   ]
  },
  {
   "cell_type": "markdown",
   "id": "0bff671e",
   "metadata": {},
   "source": [
    "data4 : vaccine-introduction-data"
   ]
  },
  {
   "cell_type": "code",
   "execution_count": 45,
   "id": "8873adba",
   "metadata": {},
   "outputs": [],
   "source": [
    "vaccine_introduction_data=pd.read_excel(\"vaccine-introduction-data.xlsx\")"
   ]
  },
  {
   "cell_type": "code",
   "execution_count": 46,
   "id": "6b779dea",
   "metadata": {},
   "outputs": [
    {
     "data": {
      "text/html": [
       "<div>\n",
       "<style scoped>\n",
       "    .dataframe tbody tr th:only-of-type {\n",
       "        vertical-align: middle;\n",
       "    }\n",
       "\n",
       "    .dataframe tbody tr th {\n",
       "        vertical-align: top;\n",
       "    }\n",
       "\n",
       "    .dataframe thead th {\n",
       "        text-align: right;\n",
       "    }\n",
       "</style>\n",
       "<table border=\"1\" class=\"dataframe\">\n",
       "  <thead>\n",
       "    <tr style=\"text-align: right;\">\n",
       "      <th></th>\n",
       "      <th>ISO_3_CODE</th>\n",
       "      <th>COUNTRYNAME</th>\n",
       "      <th>WHO_REGION</th>\n",
       "      <th>YEAR</th>\n",
       "      <th>DESCRIPTION</th>\n",
       "      <th>INTRO</th>\n",
       "    </tr>\n",
       "  </thead>\n",
       "  <tbody>\n",
       "    <tr>\n",
       "      <th>0</th>\n",
       "      <td>AFG</td>\n",
       "      <td>Afghanistan</td>\n",
       "      <td>EMRO</td>\n",
       "      <td>2023.0</td>\n",
       "      <td>aP (acellular pertussis) vaccine</td>\n",
       "      <td>No</td>\n",
       "    </tr>\n",
       "    <tr>\n",
       "      <th>1</th>\n",
       "      <td>AFG</td>\n",
       "      <td>Afghanistan</td>\n",
       "      <td>EMRO</td>\n",
       "      <td>2023.0</td>\n",
       "      <td>Hepatitis A vaccine</td>\n",
       "      <td>No</td>\n",
       "    </tr>\n",
       "    <tr>\n",
       "      <th>2</th>\n",
       "      <td>AFG</td>\n",
       "      <td>Afghanistan</td>\n",
       "      <td>EMRO</td>\n",
       "      <td>2023.0</td>\n",
       "      <td>Hepatitis B vaccine</td>\n",
       "      <td>Yes</td>\n",
       "    </tr>\n",
       "    <tr>\n",
       "      <th>3</th>\n",
       "      <td>AFG</td>\n",
       "      <td>Afghanistan</td>\n",
       "      <td>EMRO</td>\n",
       "      <td>2023.0</td>\n",
       "      <td>HepB birth dose</td>\n",
       "      <td>Yes</td>\n",
       "    </tr>\n",
       "    <tr>\n",
       "      <th>4</th>\n",
       "      <td>AFG</td>\n",
       "      <td>Afghanistan</td>\n",
       "      <td>EMRO</td>\n",
       "      <td>2023.0</td>\n",
       "      <td>Hib (Haemophilus influenzae type B) vaccine</td>\n",
       "      <td>Yes</td>\n",
       "    </tr>\n",
       "  </tbody>\n",
       "</table>\n",
       "</div>"
      ],
      "text/plain": [
       "  ISO_3_CODE  COUNTRYNAME WHO_REGION    YEAR  \\\n",
       "0        AFG  Afghanistan       EMRO  2023.0   \n",
       "1        AFG  Afghanistan       EMRO  2023.0   \n",
       "2        AFG  Afghanistan       EMRO  2023.0   \n",
       "3        AFG  Afghanistan       EMRO  2023.0   \n",
       "4        AFG  Afghanistan       EMRO  2023.0   \n",
       "\n",
       "                                   DESCRIPTION INTRO  \n",
       "0             aP (acellular pertussis) vaccine    No  \n",
       "1                          Hepatitis A vaccine    No  \n",
       "2                          Hepatitis B vaccine   Yes  \n",
       "3                              HepB birth dose   Yes  \n",
       "4  Hib (Haemophilus influenzae type B) vaccine   Yes  "
      ]
     },
     "execution_count": 46,
     "metadata": {},
     "output_type": "execute_result"
    }
   ],
   "source": [
    "vaccine_introduction_data.head()"
   ]
  },
  {
   "cell_type": "code",
   "execution_count": 47,
   "id": "c170f5d5",
   "metadata": {},
   "outputs": [
    {
     "data": {
      "text/plain": [
       "(138321, 6)"
      ]
     },
     "execution_count": 47,
     "metadata": {},
     "output_type": "execute_result"
    }
   ],
   "source": [
    "vaccine_introduction_data.shape"
   ]
  },
  {
   "cell_type": "code",
   "execution_count": 48,
   "id": "7c10453b",
   "metadata": {},
   "outputs": [
    {
     "name": "stdout",
     "output_type": "stream",
     "text": [
      "<class 'pandas.core.frame.DataFrame'>\n",
      "RangeIndex: 138321 entries, 0 to 138320\n",
      "Data columns (total 6 columns):\n",
      " #   Column       Non-Null Count   Dtype  \n",
      "---  ------       --------------   -----  \n",
      " 0   ISO_3_CODE   138321 non-null  object \n",
      " 1   COUNTRYNAME  138320 non-null  object \n",
      " 2   WHO_REGION   138320 non-null  object \n",
      " 3   YEAR         138320 non-null  float64\n",
      " 4   DESCRIPTION  138320 non-null  object \n",
      " 5   INTRO        138320 non-null  object \n",
      "dtypes: float64(1), object(5)\n",
      "memory usage: 6.3+ MB\n"
     ]
    }
   ],
   "source": [
    "vaccine_introduction_data.info()"
   ]
  },
  {
   "cell_type": "code",
   "execution_count": 49,
   "id": "9101fdbf",
   "metadata": {},
   "outputs": [
    {
     "data": {
      "text/plain": [
       "ISO_3_CODE     0\n",
       "COUNTRYNAME    1\n",
       "WHO_REGION     1\n",
       "YEAR           1\n",
       "DESCRIPTION    1\n",
       "INTRO          1\n",
       "dtype: int64"
      ]
     },
     "execution_count": 49,
     "metadata": {},
     "output_type": "execute_result"
    }
   ],
   "source": [
    "vaccine_introduction_data.isnull().sum()"
   ]
  },
  {
   "cell_type": "markdown",
   "id": "abee8ef9",
   "metadata": {},
   "source": [
    "Handle Missing Data"
   ]
  },
  {
   "cell_type": "code",
   "execution_count": 50,
   "id": "6fcf9b8c",
   "metadata": {},
   "outputs": [
    {
     "data": {
      "text/html": [
       "<div>\n",
       "<style scoped>\n",
       "    .dataframe tbody tr th:only-of-type {\n",
       "        vertical-align: middle;\n",
       "    }\n",
       "\n",
       "    .dataframe tbody tr th {\n",
       "        vertical-align: top;\n",
       "    }\n",
       "\n",
       "    .dataframe thead th {\n",
       "        text-align: right;\n",
       "    }\n",
       "</style>\n",
       "<table border=\"1\" class=\"dataframe\">\n",
       "  <thead>\n",
       "    <tr style=\"text-align: right;\">\n",
       "      <th></th>\n",
       "      <th>ISO_3_CODE</th>\n",
       "      <th>COUNTRYNAME</th>\n",
       "      <th>WHO_REGION</th>\n",
       "      <th>YEAR</th>\n",
       "      <th>DESCRIPTION</th>\n",
       "      <th>INTRO</th>\n",
       "    </tr>\n",
       "  </thead>\n",
       "  <tbody>\n",
       "    <tr>\n",
       "      <th>138320</th>\n",
       "      <td>Created: 2025-02-01 07:09 UTC</td>\n",
       "      <td>NaN</td>\n",
       "      <td>NaN</td>\n",
       "      <td>NaN</td>\n",
       "      <td>NaN</td>\n",
       "      <td>NaN</td>\n",
       "    </tr>\n",
       "  </tbody>\n",
       "</table>\n",
       "</div>"
      ],
      "text/plain": [
       "                           ISO_3_CODE COUNTRYNAME WHO_REGION  YEAR  \\\n",
       "138320  Created: 2025-02-01 07:09 UTC         NaN        NaN   NaN   \n",
       "\n",
       "       DESCRIPTION INTRO  \n",
       "138320         NaN   NaN  "
      ]
     },
     "execution_count": 50,
     "metadata": {},
     "output_type": "execute_result"
    }
   ],
   "source": [
    "# Count NaNs per row\n",
    "nan_counts = vaccine_introduction_data.isna().sum(axis=1)\n",
    "\n",
    "# Get the maximum number of NaNs in any row\n",
    "max_nans = nan_counts.max()\n",
    "\n",
    "# Get row(s) where number of NaNs equals the maximum\n",
    "rows_with_most_nans = vaccine_introduction_data[nan_counts == max_nans]\n",
    "rows_with_most_nans"
   ]
  },
  {
   "cell_type": "code",
   "execution_count": 51,
   "id": "b49a6cef",
   "metadata": {},
   "outputs": [],
   "source": [
    "# dropping the row where all the values are NaN\n",
    "vaccine_introduction_data=vaccine_introduction_data.drop(index=138320)"
   ]
  },
  {
   "cell_type": "code",
   "execution_count": 52,
   "id": "ffbab18a",
   "metadata": {},
   "outputs": [
    {
     "data": {
      "text/plain": [
       "ISO_3_CODE     0\n",
       "COUNTRYNAME    0\n",
       "WHO_REGION     0\n",
       "YEAR           0\n",
       "DESCRIPTION    0\n",
       "INTRO          0\n",
       "dtype: int64"
      ]
     },
     "execution_count": 52,
     "metadata": {},
     "output_type": "execute_result"
    }
   ],
   "source": [
    "vaccine_introduction_data.isnull().sum()"
   ]
  },
  {
   "cell_type": "markdown",
   "id": "ba724dd9",
   "metadata": {},
   "source": [
    "Normalize Units & Date consistency"
   ]
  },
  {
   "cell_type": "code",
   "execution_count": 53,
   "id": "626f9a2f",
   "metadata": {},
   "outputs": [],
   "source": [
    "# Convert YEAR to integer\n",
    "vaccine_introduction_data['YEAR'] = vaccine_introduction_data['YEAR'].astype(int)"
   ]
  },
  {
   "cell_type": "code",
   "execution_count": 54,
   "id": "e43f3715",
   "metadata": {},
   "outputs": [
    {
     "data": {
      "text/html": [
       "<div>\n",
       "<style scoped>\n",
       "    .dataframe tbody tr th:only-of-type {\n",
       "        vertical-align: middle;\n",
       "    }\n",
       "\n",
       "    .dataframe tbody tr th {\n",
       "        vertical-align: top;\n",
       "    }\n",
       "\n",
       "    .dataframe thead th {\n",
       "        text-align: right;\n",
       "    }\n",
       "</style>\n",
       "<table border=\"1\" class=\"dataframe\">\n",
       "  <thead>\n",
       "    <tr style=\"text-align: right;\">\n",
       "      <th></th>\n",
       "      <th>ISO_3_CODE</th>\n",
       "      <th>COUNTRYNAME</th>\n",
       "      <th>WHO_REGION</th>\n",
       "      <th>YEAR</th>\n",
       "      <th>DESCRIPTION</th>\n",
       "      <th>INTRO</th>\n",
       "    </tr>\n",
       "  </thead>\n",
       "  <tbody>\n",
       "    <tr>\n",
       "      <th>0</th>\n",
       "      <td>AFG</td>\n",
       "      <td>Afghanistan</td>\n",
       "      <td>EMRO</td>\n",
       "      <td>2023</td>\n",
       "      <td>aP (acellular pertussis) vaccine</td>\n",
       "      <td>No</td>\n",
       "    </tr>\n",
       "    <tr>\n",
       "      <th>1</th>\n",
       "      <td>AFG</td>\n",
       "      <td>Afghanistan</td>\n",
       "      <td>EMRO</td>\n",
       "      <td>2023</td>\n",
       "      <td>Hepatitis A vaccine</td>\n",
       "      <td>No</td>\n",
       "    </tr>\n",
       "    <tr>\n",
       "      <th>2</th>\n",
       "      <td>AFG</td>\n",
       "      <td>Afghanistan</td>\n",
       "      <td>EMRO</td>\n",
       "      <td>2023</td>\n",
       "      <td>Hepatitis B vaccine</td>\n",
       "      <td>Yes</td>\n",
       "    </tr>\n",
       "    <tr>\n",
       "      <th>3</th>\n",
       "      <td>AFG</td>\n",
       "      <td>Afghanistan</td>\n",
       "      <td>EMRO</td>\n",
       "      <td>2023</td>\n",
       "      <td>HepB birth dose</td>\n",
       "      <td>Yes</td>\n",
       "    </tr>\n",
       "    <tr>\n",
       "      <th>4</th>\n",
       "      <td>AFG</td>\n",
       "      <td>Afghanistan</td>\n",
       "      <td>EMRO</td>\n",
       "      <td>2023</td>\n",
       "      <td>Hib (Haemophilus influenzae type B) vaccine</td>\n",
       "      <td>Yes</td>\n",
       "    </tr>\n",
       "    <tr>\n",
       "      <th>...</th>\n",
       "      <td>...</td>\n",
       "      <td>...</td>\n",
       "      <td>...</td>\n",
       "      <td>...</td>\n",
       "      <td>...</td>\n",
       "      <td>...</td>\n",
       "    </tr>\n",
       "    <tr>\n",
       "      <th>138315</th>\n",
       "      <td>ZWE</td>\n",
       "      <td>Zimbabwe</td>\n",
       "      <td>AFRO</td>\n",
       "      <td>1944</td>\n",
       "      <td>Seasonal Influenza vaccine</td>\n",
       "      <td>No</td>\n",
       "    </tr>\n",
       "    <tr>\n",
       "      <th>138316</th>\n",
       "      <td>ZWE</td>\n",
       "      <td>Zimbabwe</td>\n",
       "      <td>AFRO</td>\n",
       "      <td>1943</td>\n",
       "      <td>Seasonal Influenza vaccine</td>\n",
       "      <td>No</td>\n",
       "    </tr>\n",
       "    <tr>\n",
       "      <th>138317</th>\n",
       "      <td>ZWE</td>\n",
       "      <td>Zimbabwe</td>\n",
       "      <td>AFRO</td>\n",
       "      <td>1942</td>\n",
       "      <td>Seasonal Influenza vaccine</td>\n",
       "      <td>No</td>\n",
       "    </tr>\n",
       "    <tr>\n",
       "      <th>138318</th>\n",
       "      <td>ZWE</td>\n",
       "      <td>Zimbabwe</td>\n",
       "      <td>AFRO</td>\n",
       "      <td>1941</td>\n",
       "      <td>Seasonal Influenza vaccine</td>\n",
       "      <td>No</td>\n",
       "    </tr>\n",
       "    <tr>\n",
       "      <th>138319</th>\n",
       "      <td>ZWE</td>\n",
       "      <td>Zimbabwe</td>\n",
       "      <td>AFRO</td>\n",
       "      <td>1940</td>\n",
       "      <td>Seasonal Influenza vaccine</td>\n",
       "      <td>No</td>\n",
       "    </tr>\n",
       "  </tbody>\n",
       "</table>\n",
       "<p>138320 rows × 6 columns</p>\n",
       "</div>"
      ],
      "text/plain": [
       "       ISO_3_CODE  COUNTRYNAME WHO_REGION  YEAR  \\\n",
       "0             AFG  Afghanistan       EMRO  2023   \n",
       "1             AFG  Afghanistan       EMRO  2023   \n",
       "2             AFG  Afghanistan       EMRO  2023   \n",
       "3             AFG  Afghanistan       EMRO  2023   \n",
       "4             AFG  Afghanistan       EMRO  2023   \n",
       "...           ...          ...        ...   ...   \n",
       "138315        ZWE     Zimbabwe       AFRO  1944   \n",
       "138316        ZWE     Zimbabwe       AFRO  1943   \n",
       "138317        ZWE     Zimbabwe       AFRO  1942   \n",
       "138318        ZWE     Zimbabwe       AFRO  1941   \n",
       "138319        ZWE     Zimbabwe       AFRO  1940   \n",
       "\n",
       "                                        DESCRIPTION INTRO  \n",
       "0                  aP (acellular pertussis) vaccine    No  \n",
       "1                               Hepatitis A vaccine    No  \n",
       "2                               Hepatitis B vaccine   Yes  \n",
       "3                                   HepB birth dose   Yes  \n",
       "4       Hib (Haemophilus influenzae type B) vaccine   Yes  \n",
       "...                                             ...   ...  \n",
       "138315                   Seasonal Influenza vaccine    No  \n",
       "138316                   Seasonal Influenza vaccine    No  \n",
       "138317                   Seasonal Influenza vaccine    No  \n",
       "138318                   Seasonal Influenza vaccine    No  \n",
       "138319                   Seasonal Influenza vaccine    No  \n",
       "\n",
       "[138320 rows x 6 columns]"
      ]
     },
     "execution_count": 54,
     "metadata": {},
     "output_type": "execute_result"
    }
   ],
   "source": [
    "vaccine_introduction_data"
   ]
  },
  {
   "cell_type": "markdown",
   "id": "b2b6478e",
   "metadata": {},
   "source": [
    "data5 : vaccine-schedule-data"
   ]
  },
  {
   "cell_type": "code",
   "execution_count": 55,
   "id": "41ee7fa2",
   "metadata": {},
   "outputs": [],
   "source": [
    "vaccine_schedule_data=pd.read_excel(\"vaccine-schedule-data.xlsx\")"
   ]
  },
  {
   "cell_type": "code",
   "execution_count": 56,
   "id": "7a295ce6",
   "metadata": {},
   "outputs": [
    {
     "data": {
      "text/html": [
       "<div>\n",
       "<style scoped>\n",
       "    .dataframe tbody tr th:only-of-type {\n",
       "        vertical-align: middle;\n",
       "    }\n",
       "\n",
       "    .dataframe tbody tr th {\n",
       "        vertical-align: top;\n",
       "    }\n",
       "\n",
       "    .dataframe thead th {\n",
       "        text-align: right;\n",
       "    }\n",
       "</style>\n",
       "<table border=\"1\" class=\"dataframe\">\n",
       "  <thead>\n",
       "    <tr style=\"text-align: right;\">\n",
       "      <th></th>\n",
       "      <th>ISO_3_CODE</th>\n",
       "      <th>COUNTRYNAME</th>\n",
       "      <th>WHO_REGION</th>\n",
       "      <th>YEAR</th>\n",
       "      <th>VACCINECODE</th>\n",
       "      <th>VACCINE_DESCRIPTION</th>\n",
       "      <th>SCHEDULEROUNDS</th>\n",
       "      <th>TARGETPOP</th>\n",
       "      <th>TARGETPOP_DESCRIPTION</th>\n",
       "      <th>GEOAREA</th>\n",
       "      <th>AGEADMINISTERED</th>\n",
       "      <th>SOURCECOMMENT</th>\n",
       "    </tr>\n",
       "  </thead>\n",
       "  <tbody>\n",
       "    <tr>\n",
       "      <th>0</th>\n",
       "      <td>ABW</td>\n",
       "      <td>Aruba</td>\n",
       "      <td>AMRO</td>\n",
       "      <td>2023.0</td>\n",
       "      <td>DTAPHIBIPV</td>\n",
       "      <td>DTaP-Hib-IPV (acellular) vaccine</td>\n",
       "      <td>1.0</td>\n",
       "      <td>NaN</td>\n",
       "      <td>General/routine</td>\n",
       "      <td>NATIONAL</td>\n",
       "      <td>M2</td>\n",
       "      <td>NaN</td>\n",
       "    </tr>\n",
       "    <tr>\n",
       "      <th>1</th>\n",
       "      <td>ABW</td>\n",
       "      <td>Aruba</td>\n",
       "      <td>AMRO</td>\n",
       "      <td>2023.0</td>\n",
       "      <td>DTAPHIBIPV</td>\n",
       "      <td>DTaP-Hib-IPV (acellular) vaccine</td>\n",
       "      <td>2.0</td>\n",
       "      <td>NaN</td>\n",
       "      <td>General/routine</td>\n",
       "      <td>NATIONAL</td>\n",
       "      <td>M4</td>\n",
       "      <td>NaN</td>\n",
       "    </tr>\n",
       "    <tr>\n",
       "      <th>2</th>\n",
       "      <td>ABW</td>\n",
       "      <td>Aruba</td>\n",
       "      <td>AMRO</td>\n",
       "      <td>2023.0</td>\n",
       "      <td>DTAPHIBIPV</td>\n",
       "      <td>DTaP-Hib-IPV (acellular) vaccine</td>\n",
       "      <td>3.0</td>\n",
       "      <td>NaN</td>\n",
       "      <td>General/routine</td>\n",
       "      <td>NATIONAL</td>\n",
       "      <td>M6</td>\n",
       "      <td>NaN</td>\n",
       "    </tr>\n",
       "    <tr>\n",
       "      <th>3</th>\n",
       "      <td>ABW</td>\n",
       "      <td>Aruba</td>\n",
       "      <td>AMRO</td>\n",
       "      <td>2023.0</td>\n",
       "      <td>DTAPHIBIPV</td>\n",
       "      <td>DTaP-Hib-IPV (acellular) vaccine</td>\n",
       "      <td>4.0</td>\n",
       "      <td>B_2YL_W</td>\n",
       "      <td>General/routine</td>\n",
       "      <td>NATIONAL</td>\n",
       "      <td>M15</td>\n",
       "      <td>NaN</td>\n",
       "    </tr>\n",
       "    <tr>\n",
       "      <th>4</th>\n",
       "      <td>ABW</td>\n",
       "      <td>Aruba</td>\n",
       "      <td>AMRO</td>\n",
       "      <td>2023.0</td>\n",
       "      <td>DTAPIPV</td>\n",
       "      <td>DTaP-IPV (acellular) vaccine</td>\n",
       "      <td>5.0</td>\n",
       "      <td>B_CHILD_W</td>\n",
       "      <td>General/routine</td>\n",
       "      <td>NATIONAL</td>\n",
       "      <td>Y4</td>\n",
       "      <td>NaN</td>\n",
       "    </tr>\n",
       "  </tbody>\n",
       "</table>\n",
       "</div>"
      ],
      "text/plain": [
       "  ISO_3_CODE COUNTRYNAME WHO_REGION    YEAR VACCINECODE  \\\n",
       "0        ABW       Aruba       AMRO  2023.0  DTAPHIBIPV   \n",
       "1        ABW       Aruba       AMRO  2023.0  DTAPHIBIPV   \n",
       "2        ABW       Aruba       AMRO  2023.0  DTAPHIBIPV   \n",
       "3        ABW       Aruba       AMRO  2023.0  DTAPHIBIPV   \n",
       "4        ABW       Aruba       AMRO  2023.0     DTAPIPV   \n",
       "\n",
       "                VACCINE_DESCRIPTION  SCHEDULEROUNDS  TARGETPOP  \\\n",
       "0  DTaP-Hib-IPV (acellular) vaccine             1.0        NaN   \n",
       "1  DTaP-Hib-IPV (acellular) vaccine             2.0        NaN   \n",
       "2  DTaP-Hib-IPV (acellular) vaccine             3.0        NaN   \n",
       "3  DTaP-Hib-IPV (acellular) vaccine             4.0    B_2YL_W   \n",
       "4      DTaP-IPV (acellular) vaccine             5.0  B_CHILD_W   \n",
       "\n",
       "  TARGETPOP_DESCRIPTION   GEOAREA AGEADMINISTERED SOURCECOMMENT  \n",
       "0       General/routine  NATIONAL              M2           NaN  \n",
       "1       General/routine  NATIONAL              M4           NaN  \n",
       "2       General/routine  NATIONAL              M6           NaN  \n",
       "3       General/routine  NATIONAL             M15           NaN  \n",
       "4       General/routine  NATIONAL              Y4           NaN  "
      ]
     },
     "execution_count": 56,
     "metadata": {},
     "output_type": "execute_result"
    }
   ],
   "source": [
    "vaccine_schedule_data.head()"
   ]
  },
  {
   "cell_type": "code",
   "execution_count": 57,
   "id": "f49227f7",
   "metadata": {},
   "outputs": [
    {
     "data": {
      "text/plain": [
       "(8053, 12)"
      ]
     },
     "execution_count": 57,
     "metadata": {},
     "output_type": "execute_result"
    }
   ],
   "source": [
    "vaccine_schedule_data.shape"
   ]
  },
  {
   "cell_type": "code",
   "execution_count": 58,
   "id": "ad34725a",
   "metadata": {},
   "outputs": [
    {
     "name": "stdout",
     "output_type": "stream",
     "text": [
      "<class 'pandas.core.frame.DataFrame'>\n",
      "RangeIndex: 8053 entries, 0 to 8052\n",
      "Data columns (total 12 columns):\n",
      " #   Column                 Non-Null Count  Dtype  \n",
      "---  ------                 --------------  -----  \n",
      " 0   ISO_3_CODE             8053 non-null   object \n",
      " 1   COUNTRYNAME            8052 non-null   object \n",
      " 2   WHO_REGION             8052 non-null   object \n",
      " 3   YEAR                   8052 non-null   float64\n",
      " 4   VACCINECODE            8052 non-null   object \n",
      " 5   VACCINE_DESCRIPTION    8052 non-null   object \n",
      " 6   SCHEDULEROUNDS         8052 non-null   float64\n",
      " 7   TARGETPOP              3795 non-null   object \n",
      " 8   TARGETPOP_DESCRIPTION  8052 non-null   object \n",
      " 9   GEOAREA                8022 non-null   object \n",
      " 10  AGEADMINISTERED        7007 non-null   object \n",
      " 11  SOURCECOMMENT          5139 non-null   object \n",
      "dtypes: float64(2), object(10)\n",
      "memory usage: 755.1+ KB\n"
     ]
    }
   ],
   "source": [
    "vaccine_schedule_data.info()"
   ]
  },
  {
   "cell_type": "code",
   "execution_count": 59,
   "id": "07b6b2e3",
   "metadata": {},
   "outputs": [
    {
     "data": {
      "text/plain": [
       "ISO_3_CODE                  0\n",
       "COUNTRYNAME                 1\n",
       "WHO_REGION                  1\n",
       "YEAR                        1\n",
       "VACCINECODE                 1\n",
       "VACCINE_DESCRIPTION         1\n",
       "SCHEDULEROUNDS              1\n",
       "TARGETPOP                4258\n",
       "TARGETPOP_DESCRIPTION       1\n",
       "GEOAREA                    31\n",
       "AGEADMINISTERED          1046\n",
       "SOURCECOMMENT            2914\n",
       "dtype: int64"
      ]
     },
     "execution_count": 59,
     "metadata": {},
     "output_type": "execute_result"
    }
   ],
   "source": [
    "vaccine_schedule_data.isnull().sum()"
   ]
  },
  {
   "cell_type": "markdown",
   "id": "543ace59",
   "metadata": {},
   "source": [
    "Handle Missing Data"
   ]
  },
  {
   "cell_type": "code",
   "execution_count": 60,
   "id": "e95083cc",
   "metadata": {},
   "outputs": [
    {
     "data": {
      "text/html": [
       "<div>\n",
       "<style scoped>\n",
       "    .dataframe tbody tr th:only-of-type {\n",
       "        vertical-align: middle;\n",
       "    }\n",
       "\n",
       "    .dataframe tbody tr th {\n",
       "        vertical-align: top;\n",
       "    }\n",
       "\n",
       "    .dataframe thead th {\n",
       "        text-align: right;\n",
       "    }\n",
       "</style>\n",
       "<table border=\"1\" class=\"dataframe\">\n",
       "  <thead>\n",
       "    <tr style=\"text-align: right;\">\n",
       "      <th></th>\n",
       "      <th>ISO_3_CODE</th>\n",
       "      <th>COUNTRYNAME</th>\n",
       "      <th>WHO_REGION</th>\n",
       "      <th>YEAR</th>\n",
       "      <th>VACCINECODE</th>\n",
       "      <th>VACCINE_DESCRIPTION</th>\n",
       "      <th>SCHEDULEROUNDS</th>\n",
       "      <th>TARGETPOP</th>\n",
       "      <th>TARGETPOP_DESCRIPTION</th>\n",
       "      <th>GEOAREA</th>\n",
       "      <th>AGEADMINISTERED</th>\n",
       "      <th>SOURCECOMMENT</th>\n",
       "    </tr>\n",
       "  </thead>\n",
       "  <tbody>\n",
       "    <tr>\n",
       "      <th>8052</th>\n",
       "      <td>Created: 2025-02-01 16:10 UTC</td>\n",
       "      <td>NaN</td>\n",
       "      <td>NaN</td>\n",
       "      <td>NaN</td>\n",
       "      <td>NaN</td>\n",
       "      <td>NaN</td>\n",
       "      <td>NaN</td>\n",
       "      <td>NaN</td>\n",
       "      <td>NaN</td>\n",
       "      <td>NaN</td>\n",
       "      <td>NaN</td>\n",
       "      <td>NaN</td>\n",
       "    </tr>\n",
       "  </tbody>\n",
       "</table>\n",
       "</div>"
      ],
      "text/plain": [
       "                         ISO_3_CODE COUNTRYNAME WHO_REGION  YEAR VACCINECODE  \\\n",
       "8052  Created: 2025-02-01 16:10 UTC         NaN        NaN   NaN         NaN   \n",
       "\n",
       "     VACCINE_DESCRIPTION  SCHEDULEROUNDS TARGETPOP TARGETPOP_DESCRIPTION  \\\n",
       "8052                 NaN             NaN       NaN                   NaN   \n",
       "\n",
       "     GEOAREA AGEADMINISTERED SOURCECOMMENT  \n",
       "8052     NaN             NaN           NaN  "
      ]
     },
     "execution_count": 60,
     "metadata": {},
     "output_type": "execute_result"
    }
   ],
   "source": [
    "# Count NaNs per row\n",
    "nan_counts = vaccine_schedule_data.isna().sum(axis=1)\n",
    "\n",
    "# Get the maximum number of NaNs in any row\n",
    "max_nans = nan_counts.max()\n",
    "\n",
    "# Get row(s) where number of NaNs equals the maximum\n",
    "rows_with_most_nans = vaccine_schedule_data[nan_counts == max_nans]\n",
    "rows_with_most_nans"
   ]
  },
  {
   "cell_type": "code",
   "execution_count": 61,
   "id": "8c2f8b82",
   "metadata": {},
   "outputs": [],
   "source": [
    "# dropping the row where all the values are NaN\n",
    "vaccine_schedule_data=vaccine_schedule_data.drop(index=8052)"
   ]
  },
  {
   "cell_type": "code",
   "execution_count": 62,
   "id": "92ec96c8",
   "metadata": {},
   "outputs": [],
   "source": [
    "vaccine_schedule_data['TARGETPOP'] = vaccine_schedule_data['TARGETPOP'].fillna(vaccine_schedule_data['TARGETPOP'].mode()[0])\n",
    "vaccine_schedule_data['AGEADMINISTERED'] = vaccine_schedule_data['AGEADMINISTERED'].fillna(vaccine_schedule_data['AGEADMINISTERED'].mode()[0])\n",
    "vaccine_schedule_data.update(vaccine_schedule_data['GEOAREA'].fillna(\"NATIONAL\"))\n",
    "vaccine_schedule_data.update(vaccine_schedule_data['SOURCECOMMENT'].fillna('No comment provided'))"
   ]
  },
  {
   "cell_type": "code",
   "execution_count": 63,
   "id": "d06e9549",
   "metadata": {},
   "outputs": [
    {
     "data": {
      "text/plain": [
       "ISO_3_CODE               0\n",
       "COUNTRYNAME              0\n",
       "WHO_REGION               0\n",
       "YEAR                     0\n",
       "VACCINECODE              0\n",
       "VACCINE_DESCRIPTION      0\n",
       "SCHEDULEROUNDS           0\n",
       "TARGETPOP                0\n",
       "TARGETPOP_DESCRIPTION    0\n",
       "GEOAREA                  0\n",
       "AGEADMINISTERED          0\n",
       "SOURCECOMMENT            0\n",
       "dtype: int64"
      ]
     },
     "execution_count": 63,
     "metadata": {},
     "output_type": "execute_result"
    }
   ],
   "source": [
    "vaccine_schedule_data.isnull().sum()"
   ]
  },
  {
   "cell_type": "markdown",
   "id": "e0b437b2",
   "metadata": {},
   "source": [
    "Normalize Units & Date Consistency"
   ]
  },
  {
   "cell_type": "code",
   "execution_count": 64,
   "id": "ef7d062b",
   "metadata": {},
   "outputs": [],
   "source": [
    "# Convert YEAR, SCHEDULEROUNDS to integer\n",
    "vaccine_schedule_data['YEAR'] = vaccine_schedule_data['YEAR'].astype(int)\n",
    "vaccine_schedule_data['SCHEDULEROUNDS'] = vaccine_schedule_data['SCHEDULEROUNDS'].astype(int)"
   ]
  },
  {
   "cell_type": "code",
   "execution_count": 65,
   "id": "e322f536",
   "metadata": {},
   "outputs": [
    {
     "data": {
      "text/html": [
       "<div>\n",
       "<style scoped>\n",
       "    .dataframe tbody tr th:only-of-type {\n",
       "        vertical-align: middle;\n",
       "    }\n",
       "\n",
       "    .dataframe tbody tr th {\n",
       "        vertical-align: top;\n",
       "    }\n",
       "\n",
       "    .dataframe thead th {\n",
       "        text-align: right;\n",
       "    }\n",
       "</style>\n",
       "<table border=\"1\" class=\"dataframe\">\n",
       "  <thead>\n",
       "    <tr style=\"text-align: right;\">\n",
       "      <th></th>\n",
       "      <th>ISO_3_CODE</th>\n",
       "      <th>COUNTRYNAME</th>\n",
       "      <th>WHO_REGION</th>\n",
       "      <th>YEAR</th>\n",
       "      <th>VACCINECODE</th>\n",
       "      <th>VACCINE_DESCRIPTION</th>\n",
       "      <th>SCHEDULEROUNDS</th>\n",
       "      <th>TARGETPOP</th>\n",
       "      <th>TARGETPOP_DESCRIPTION</th>\n",
       "      <th>GEOAREA</th>\n",
       "      <th>AGEADMINISTERED</th>\n",
       "      <th>SOURCECOMMENT</th>\n",
       "    </tr>\n",
       "  </thead>\n",
       "  <tbody>\n",
       "    <tr>\n",
       "      <th>0</th>\n",
       "      <td>ABW</td>\n",
       "      <td>Aruba</td>\n",
       "      <td>AMRO</td>\n",
       "      <td>2023</td>\n",
       "      <td>DTAPHIBIPV</td>\n",
       "      <td>DTaP-Hib-IPV (acellular) vaccine</td>\n",
       "      <td>1</td>\n",
       "      <td>RISKGROUPS</td>\n",
       "      <td>General/routine</td>\n",
       "      <td>NATIONAL</td>\n",
       "      <td>M2</td>\n",
       "      <td>No comment provided</td>\n",
       "    </tr>\n",
       "    <tr>\n",
       "      <th>1</th>\n",
       "      <td>ABW</td>\n",
       "      <td>Aruba</td>\n",
       "      <td>AMRO</td>\n",
       "      <td>2023</td>\n",
       "      <td>DTAPHIBIPV</td>\n",
       "      <td>DTaP-Hib-IPV (acellular) vaccine</td>\n",
       "      <td>2</td>\n",
       "      <td>RISKGROUPS</td>\n",
       "      <td>General/routine</td>\n",
       "      <td>NATIONAL</td>\n",
       "      <td>M4</td>\n",
       "      <td>No comment provided</td>\n",
       "    </tr>\n",
       "    <tr>\n",
       "      <th>2</th>\n",
       "      <td>ABW</td>\n",
       "      <td>Aruba</td>\n",
       "      <td>AMRO</td>\n",
       "      <td>2023</td>\n",
       "      <td>DTAPHIBIPV</td>\n",
       "      <td>DTaP-Hib-IPV (acellular) vaccine</td>\n",
       "      <td>3</td>\n",
       "      <td>RISKGROUPS</td>\n",
       "      <td>General/routine</td>\n",
       "      <td>NATIONAL</td>\n",
       "      <td>M6</td>\n",
       "      <td>No comment provided</td>\n",
       "    </tr>\n",
       "    <tr>\n",
       "      <th>3</th>\n",
       "      <td>ABW</td>\n",
       "      <td>Aruba</td>\n",
       "      <td>AMRO</td>\n",
       "      <td>2023</td>\n",
       "      <td>DTAPHIBIPV</td>\n",
       "      <td>DTaP-Hib-IPV (acellular) vaccine</td>\n",
       "      <td>4</td>\n",
       "      <td>B_2YL_W</td>\n",
       "      <td>General/routine</td>\n",
       "      <td>NATIONAL</td>\n",
       "      <td>M15</td>\n",
       "      <td>No comment provided</td>\n",
       "    </tr>\n",
       "    <tr>\n",
       "      <th>4</th>\n",
       "      <td>ABW</td>\n",
       "      <td>Aruba</td>\n",
       "      <td>AMRO</td>\n",
       "      <td>2023</td>\n",
       "      <td>DTAPIPV</td>\n",
       "      <td>DTaP-IPV (acellular) vaccine</td>\n",
       "      <td>5</td>\n",
       "      <td>B_CHILD_W</td>\n",
       "      <td>General/routine</td>\n",
       "      <td>NATIONAL</td>\n",
       "      <td>Y4</td>\n",
       "      <td>No comment provided</td>\n",
       "    </tr>\n",
       "    <tr>\n",
       "      <th>...</th>\n",
       "      <td>...</td>\n",
       "      <td>...</td>\n",
       "      <td>...</td>\n",
       "      <td>...</td>\n",
       "      <td>...</td>\n",
       "      <td>...</td>\n",
       "      <td>...</td>\n",
       "      <td>...</td>\n",
       "      <td>...</td>\n",
       "      <td>...</td>\n",
       "      <td>...</td>\n",
       "      <td>...</td>\n",
       "    </tr>\n",
       "    <tr>\n",
       "      <th>8047</th>\n",
       "      <td>ZWE</td>\n",
       "      <td>Zimbabwe</td>\n",
       "      <td>AFRO</td>\n",
       "      <td>2023</td>\n",
       "      <td>VITAMINA</td>\n",
       "      <td>Vitamin A supplements</td>\n",
       "      <td>2</td>\n",
       "      <td>RISKGROUPS</td>\n",
       "      <td>General/routine</td>\n",
       "      <td>NATIONAL</td>\n",
       "      <td>M12</td>\n",
       "      <td>M6-M59</td>\n",
       "    </tr>\n",
       "    <tr>\n",
       "      <th>8048</th>\n",
       "      <td>ZWE</td>\n",
       "      <td>Zimbabwe</td>\n",
       "      <td>AFRO</td>\n",
       "      <td>2023</td>\n",
       "      <td>VITAMINA</td>\n",
       "      <td>Vitamin A supplements</td>\n",
       "      <td>3</td>\n",
       "      <td>RISKGROUPS</td>\n",
       "      <td>General/routine</td>\n",
       "      <td>NATIONAL</td>\n",
       "      <td>M18</td>\n",
       "      <td>M6-M59</td>\n",
       "    </tr>\n",
       "    <tr>\n",
       "      <th>8049</th>\n",
       "      <td>ZWE</td>\n",
       "      <td>Zimbabwe</td>\n",
       "      <td>AFRO</td>\n",
       "      <td>2023</td>\n",
       "      <td>VITAMINA</td>\n",
       "      <td>Vitamin A supplements</td>\n",
       "      <td>4</td>\n",
       "      <td>RISKGROUPS</td>\n",
       "      <td>General/routine</td>\n",
       "      <td>NATIONAL</td>\n",
       "      <td>M24</td>\n",
       "      <td>M6-M59</td>\n",
       "    </tr>\n",
       "    <tr>\n",
       "      <th>8050</th>\n",
       "      <td>ZWE</td>\n",
       "      <td>Zimbabwe</td>\n",
       "      <td>AFRO</td>\n",
       "      <td>2023</td>\n",
       "      <td>VITAMINA</td>\n",
       "      <td>Vitamin A supplements</td>\n",
       "      <td>5</td>\n",
       "      <td>RISKGROUPS</td>\n",
       "      <td>General/routine</td>\n",
       "      <td>NATIONAL</td>\n",
       "      <td>M30</td>\n",
       "      <td>M6-M59</td>\n",
       "    </tr>\n",
       "    <tr>\n",
       "      <th>8051</th>\n",
       "      <td>ZWE</td>\n",
       "      <td>Zimbabwe</td>\n",
       "      <td>AFRO</td>\n",
       "      <td>2023</td>\n",
       "      <td>VITAMINA</td>\n",
       "      <td>Vitamin A supplements</td>\n",
       "      <td>6</td>\n",
       "      <td>RISKGROUPS</td>\n",
       "      <td>General/routine</td>\n",
       "      <td>NATIONAL</td>\n",
       "      <td>M36</td>\n",
       "      <td>M6-M59</td>\n",
       "    </tr>\n",
       "  </tbody>\n",
       "</table>\n",
       "<p>8052 rows × 12 columns</p>\n",
       "</div>"
      ],
      "text/plain": [
       "     ISO_3_CODE COUNTRYNAME WHO_REGION  YEAR VACCINECODE  \\\n",
       "0           ABW       Aruba       AMRO  2023  DTAPHIBIPV   \n",
       "1           ABW       Aruba       AMRO  2023  DTAPHIBIPV   \n",
       "2           ABW       Aruba       AMRO  2023  DTAPHIBIPV   \n",
       "3           ABW       Aruba       AMRO  2023  DTAPHIBIPV   \n",
       "4           ABW       Aruba       AMRO  2023     DTAPIPV   \n",
       "...         ...         ...        ...   ...         ...   \n",
       "8047        ZWE    Zimbabwe       AFRO  2023    VITAMINA   \n",
       "8048        ZWE    Zimbabwe       AFRO  2023    VITAMINA   \n",
       "8049        ZWE    Zimbabwe       AFRO  2023    VITAMINA   \n",
       "8050        ZWE    Zimbabwe       AFRO  2023    VITAMINA   \n",
       "8051        ZWE    Zimbabwe       AFRO  2023    VITAMINA   \n",
       "\n",
       "                   VACCINE_DESCRIPTION  SCHEDULEROUNDS   TARGETPOP  \\\n",
       "0     DTaP-Hib-IPV (acellular) vaccine               1  RISKGROUPS   \n",
       "1     DTaP-Hib-IPV (acellular) vaccine               2  RISKGROUPS   \n",
       "2     DTaP-Hib-IPV (acellular) vaccine               3  RISKGROUPS   \n",
       "3     DTaP-Hib-IPV (acellular) vaccine               4     B_2YL_W   \n",
       "4         DTaP-IPV (acellular) vaccine               5   B_CHILD_W   \n",
       "...                                ...             ...         ...   \n",
       "8047             Vitamin A supplements               2  RISKGROUPS   \n",
       "8048             Vitamin A supplements               3  RISKGROUPS   \n",
       "8049             Vitamin A supplements               4  RISKGROUPS   \n",
       "8050             Vitamin A supplements               5  RISKGROUPS   \n",
       "8051             Vitamin A supplements               6  RISKGROUPS   \n",
       "\n",
       "     TARGETPOP_DESCRIPTION   GEOAREA AGEADMINISTERED        SOURCECOMMENT  \n",
       "0          General/routine  NATIONAL              M2  No comment provided  \n",
       "1          General/routine  NATIONAL              M4  No comment provided  \n",
       "2          General/routine  NATIONAL              M6  No comment provided  \n",
       "3          General/routine  NATIONAL             M15  No comment provided  \n",
       "4          General/routine  NATIONAL              Y4  No comment provided  \n",
       "...                    ...       ...             ...                  ...  \n",
       "8047       General/routine  NATIONAL             M12               M6-M59  \n",
       "8048       General/routine  NATIONAL             M18               M6-M59  \n",
       "8049       General/routine  NATIONAL             M24               M6-M59  \n",
       "8050       General/routine  NATIONAL             M30               M6-M59  \n",
       "8051       General/routine  NATIONAL             M36               M6-M59  \n",
       "\n",
       "[8052 rows x 12 columns]"
      ]
     },
     "execution_count": 65,
     "metadata": {},
     "output_type": "execute_result"
    }
   ],
   "source": [
    "vaccine_schedule_data"
   ]
  },
  {
   "cell_type": "code",
   "execution_count": 66,
   "id": "d8169439",
   "metadata": {},
   "outputs": [
    {
     "data": {
      "text/plain": [
       "count    8052.000000\n",
       "mean        2.053403\n",
       "std         1.316560\n",
       "min         1.000000\n",
       "25%         1.000000\n",
       "50%         2.000000\n",
       "75%         3.000000\n",
       "max         7.000000\n",
       "Name: SCHEDULEROUNDS, dtype: float64"
      ]
     },
     "execution_count": 66,
     "metadata": {},
     "output_type": "execute_result"
    }
   ],
   "source": [
    "vaccine_schedule_data['SCHEDULEROUNDS'].describe()"
   ]
  },
  {
   "cell_type": "code",
   "execution_count": 67,
   "id": "c64439c9",
   "metadata": {},
   "outputs": [],
   "source": [
    "coverage_data.to_csv(\"coverage_dataN\", index=False)\n",
    "incidence_rate_data.to_csv(\"incidence_rate_dataN\",index=False)\n",
    "reported_cases_data.to_csv(\"reported_cases_dataN\",index=False)\n",
    "vaccine_introduction_data.to_csv(\"vaccine_introduction_dataN\",index=False)\n",
    "vaccine_schedule_data.to_csv(\"vaccine_schedule_dataN\",index=False)"
   ]
  },
  {
   "cell_type": "code",
   "execution_count": null,
   "id": "e856eefb",
   "metadata": {},
   "outputs": [],
   "source": []
  }
 ],
 "metadata": {
  "kernelspec": {
   "display_name": "Python 3",
   "language": "python",
   "name": "python3"
  },
  "language_info": {
   "codemirror_mode": {
    "name": "ipython",
    "version": 3
   },
   "file_extension": ".py",
   "mimetype": "text/x-python",
   "name": "python",
   "nbconvert_exporter": "python",
   "pygments_lexer": "ipython3",
   "version": "3.10.11"
  }
 },
 "nbformat": 4,
 "nbformat_minor": 5
}
